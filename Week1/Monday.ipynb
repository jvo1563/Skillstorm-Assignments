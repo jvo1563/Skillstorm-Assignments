{
 "cells": [
  {
   "cell_type": "markdown",
   "metadata": {},
   "source": [
    "## Python Assignments\n",
    "\n",
    "### Daily Assignments\n"
   ]
  },
  {
   "cell_type": "code",
   "execution_count": 100,
   "metadata": {},
   "outputs": [
    {
     "name": "stdout",
     "output_type": "stream",
     "text": [
      "Current date and time: 2024-06-17 14:30:50.412731\n",
      "Formatted Date: 2024-06-17\n",
      "Number of days until my next birthday: 76\n"
     ]
    }
   ],
   "source": [
    "### Excercise 1: Working with Dates & Times\n",
    "# 1. Get the current date and time.\n",
    "# 2. Format the date as `YYYY-MM-DD`.\n",
    "# 3. Calculate the number of days until your next birthday.\n",
    "\n",
    "import datetime\n",
    "\n",
    "now = datetime.datetime.now()\n",
    "print(\"Current date and time:\", now)\n",
    "\n",
    "print(\"Formatted Date:\", now.strftime(\"%Y-%m-%d\"))\n",
    "\n",
    "next_birthday = datetime.datetime.strptime(\"09-02-2024\", \"%m-%d-%Y\")\n",
    "diff = next_birthday - now\n",
    "print(\"Number of days until my next birthday:\", diff.days)"
   ]
  },
  {
   "cell_type": "code",
   "execution_count": 101,
   "metadata": {},
   "outputs": [
    {
     "name": "stdout",
     "output_type": "stream",
     "text": [
      "{'Bob': 'A+', 'John': 'F', 'Sarah': 'B-'}\n",
      "{'Bob': 'A+', 'John': 'F', 'Sarah': 'B-', 'Alex': 'C'}\n",
      "Student: Bob\n",
      "Classes: ['math', 'history']\n",
      "Student: John\n",
      "Classes: ['english', 'biology']\n",
      "Student: Sarah\n",
      "Classes: ['physics', 'gym']\n",
      "Student: Alex\n",
      "Classes: ['writing', 'chemistry']\n",
      "Set of students: {'John', 'Alex', 'Sarah', 'Bob'}\n"
     ]
    }
   ],
   "source": [
    "### Exercise 2: Dictionaries and Sets\n",
    "# 1. Create a Dictionary of 3 Students and their grades.\n",
    "# 2. Add a fourth student to the dictionary.\n",
    "# 3. Change the value of each student to another dictionary of their classes.\n",
    "# 4. Add all names of the students to a set.\n",
    "\n",
    "students_dict = {\n",
    "    \"Bob\": \"A+\",\n",
    "    \"John\": \"F\",\n",
    "    \"Sarah\": \"B-\"\n",
    "}\n",
    "\n",
    "print(students_dict)\n",
    "\n",
    "students_dict[\"Alex\"] = \"C\"\n",
    "print(students_dict)\n",
    "\n",
    "students_dict[\"Bob\"] = {\"classes\": [\"math\",\"history\"]}\n",
    "students_dict[\"John\"] = {\"classes\": [\"english\", \"biology\"]}\n",
    "students_dict[\"Sarah\"] = {\"classes\": [\"physics\", \"gym\"]}\n",
    "students_dict[\"Alex\"] = {\"classes\": [\"writing\", \"chemistry\"]}\n",
    "\n",
    "for k,v in students_dict.items():\n",
    "    print(f\"Student: {k}\\nClasses: {v[\"classes\"]}\")\n",
    "\n",
    "students_set = set()\n",
    "for k in students_dict.keys():\n",
    "    students_set.add(k)\n",
    "\n",
    "print(\"Set of students:\", students_set)"
   ]
  },
  {
   "cell_type": "code",
   "execution_count": 102,
   "metadata": {},
   "outputs": [
    {
     "name": "stdout",
     "output_type": "stream",
     "text": [
      "String: Hello how are you doing today?\n",
      "Split String: ['Hello', 'how', 'are', 'you', 'doing', 'today?']\n",
      "Joining List of words:  Hello|how|are|you|doing|today?\n",
      "'o' appears in string 5 times\n"
     ]
    }
   ],
   "source": [
    "### Exercise 3: Advanced String Operations\n",
    "# 1. Split a string into a list of words.\n",
    "# 2. Join a list of words into a single string with pipes separating them.\n",
    "# 3. Count the number of occurrences of a character in a string.\n",
    "\n",
    "string = \"Hello how are you doing today?\"\n",
    "print(\"String:\", string)\n",
    "\n",
    "string_list = string.split()\n",
    "print(\"Split String:\", string_list)\n",
    "\n",
    "string_joined = \"|\".join(string_list)\n",
    "print(\"Joining List of words: \", string_joined)\n",
    "\n",
    "o_count = 0\n",
    "for char in string:\n",
    "    if char == 'o':\n",
    "        o_count+=1\n",
    "# Prints a dictionary that counts how many times each character appears in string\n",
    "print(f\"'o' appears in string {o_count} times\")"
   ]
  },
  {
   "cell_type": "code",
   "execution_count": 103,
   "metadata": {},
   "outputs": [
    {
     "name": "stdout",
     "output_type": "stream",
     "text": [
      "List of numbers: [43, 12, 9, 71, 20, 1, 99, 23]\n",
      "Appending 10 to list: [43, 12, 9, 71, 20, 1, 99, 23, 10]\n",
      "Removing 71 from list: [43, 12, 9, 20, 1, 99, 23, 10]\n",
      "Sorted List: [1, 9, 10, 12, 20, 23, 43, 99]\n"
     ]
    }
   ],
   "source": [
    "### Exercise 4: Lists and Basic Operations\n",
    "# 1. Create a list of integers.\n",
    "# 2. Append an integer to the list.\n",
    "# 3. Remove an integer from the list.\n",
    "# 4. Sort the list in ascending order.\n",
    "\n",
    "my_list = [43, 12, 9, 71, 20, 1, 99, 23]\n",
    "print(\"List of numbers:\", my_list)\n",
    "\n",
    "my_list.append(10)\n",
    "print(\"Appending 10 to list:\", my_list)\n",
    "\n",
    "my_list.remove(71)\n",
    "print(\"Removing 71 from list:\", my_list)\n",
    "\n",
    "print(\"Sorted List:\", sorted(my_list))"
   ]
  },
  {
   "cell_type": "code",
   "execution_count": 104,
   "metadata": {},
   "outputs": [
    {
     "name": "stdout",
     "output_type": "stream",
     "text": [
      "List of Squared Integers: [1, 4, 9, 16, 25, 36, 49, 64, 81, 100]\n",
      "List of only even numbers [4, 16, 36, 64, 100]\n",
      "{'John': 24, 'Bob': 45, 'Sarah': 60}\n"
     ]
    }
   ],
   "source": [
    "### Challenge 1: List Comprehensions and Filtering\n",
    "# 1. Use a list comprehension to create a list of squares of integers from 1 to 10.\n",
    "# 2. Filter a list to include only even numbers.\n",
    "# 3. Use a dictionary comprehension to create a dictionary from two lists.\n",
    "\n",
    "my_list = [i**2 for i in range(1, 11)]\n",
    "print(\"List of Squared Integers:\", my_list)\n",
    "print(\"List of only even numbers\", [i for i in my_list if i % 2 == 0])\n",
    "\n",
    "\n",
    "key_list = [\"John\", \"Bob\", \"Sarah\"]\n",
    "value_list = [24, 45, 60]\n",
    "age_dict = {k:v for (k,v) in zip(key_list,value_list)}\n",
    "print(age_dict)"
   ]
  },
  {
   "cell_type": "code",
   "execution_count": 105,
   "metadata": {},
   "outputs": [
    {
     "name": "stdout",
     "output_type": "stream",
     "text": [
      "String: 12/25/24\n",
      "datetime object: 2024-12-25 00:00:00\n",
      "Number of weekdays until christmas: 137\n",
      "All meetings between 2024-06-17 00:00:00 and 2024-08-25 00:00:00 with a 9 days interval:\n",
      "2024-07-01 00:00:00\n",
      "2024-07-10 00:00:00\n",
      "2024-07-19 00:00:00\n",
      "2024-07-28 00:00:00\n",
      "2024-08-06 00:00:00\n",
      "2024-08-15 00:00:00\n",
      "2024-08-24 00:00:00\n"
     ]
    }
   ],
   "source": [
    "### Challenge 2: Complex Date and Time Operations\n",
    "# 1. Parse a string into a datetime object.\n",
    "# 2. Create a function that takes two dates and returns the number of weekdays between them.\n",
    "# 3. Create a function that accepts a start date, end date, meeting datetime, and interval and returns all occurrences of the event within that timeframe.\n",
    "\n",
    "christmas_string = \"12/25/24\"\n",
    "christmas_datetime = datetime.datetime.strptime(christmas_string, \"%m/%d/%y\")\n",
    "print(\"String:\", christmas_string)\n",
    "print(\"datetime object:\", christmas_datetime)\n",
    "\n",
    "\n",
    "def count_weekdays(datetime1, datetime2):\n",
    "    if datetime1 > datetime2:\n",
    "        later_date = datetime1\n",
    "        earlier_date = datetime2\n",
    "\n",
    "    else:\n",
    "        later_date = datetime2\n",
    "        earlier_date = datetime1\n",
    "\n",
    "    num_days = 0\n",
    "    delta = datetime.timedelta(1)\n",
    "\n",
    "    while earlier_date < later_date:\n",
    "        earlier_date += delta\n",
    "        if earlier_date.isoweekday() not in (6, 7):\n",
    "            num_days += 1\n",
    "\n",
    "    return num_days\n",
    "\n",
    "\n",
    "print(\n",
    "    \"Number of weekdays until christmas:\",\n",
    "    count_weekdays(datetime.datetime.now(), christmas_datetime),\n",
    ")\n",
    "\n",
    "\n",
    "def event_occurences(start, end, meet, interval):\n",
    "    if meet < start or meet > end:\n",
    "        return []\n",
    "    \n",
    "    delta = datetime.timedelta(interval)\n",
    "    meetings=[]\n",
    "    while meet<end:\n",
    "        meetings.append(meet)\n",
    "        meet+=delta\n",
    "    return meetings\n",
    "\n",
    "\n",
    "start = datetime.datetime(2024, 6, 17)\n",
    "end = datetime.datetime(2024, 8, 25)\n",
    "meet = datetime.datetime(2024, 7, 1)\n",
    "interval = 9\n",
    "\n",
    "meetings = event_occurences(start, end, meet, interval)\n",
    "print(f\"All meetings between {start} and {end} with a {interval} days interval:\")\n",
    "for meeting in meetings:\n",
    "    print(meeting)"
   ]
  },
  {
   "cell_type": "code",
   "execution_count": 106,
   "metadata": {},
   "outputs": [
    {
     "name": "stdout",
     "output_type": "stream",
     "text": [
      "[{'name': 'Bob', 'grade': 81}, {'name': 'Sarah', 'grade': 96}, {'name': 'John', 'grade': 20}]\n",
      "Average Grade: 65.66666666666667\n",
      "The student with the highest grade is Sarah with a grade of 96\n"
     ]
    }
   ],
   "source": [
    "### Challenge 3: Nested Collections and Data Aggregation\n",
    "# 1. Create a list of dictionaries representing students with their names and grades.\n",
    "# 2. Calculate the average grade of the students.\n",
    "# 3. Find the student with the highest grade.\n",
    "\n",
    "students = [\n",
    "    {\"name\": \"Bob\", \"grade\": 81},\n",
    "    {\"name\": \"Sarah\", \"grade\": 96},\n",
    "    {\"name\": \"John\", \"grade\": 20},\n",
    "]\n",
    "print(students)\n",
    "\n",
    "sum = 0\n",
    "for student in students:\n",
    "    sum+= student[\"grade\"]\n",
    "\n",
    "print(\"Average Grade:\", sum/len(students))\n",
    "\n",
    "best_student =students[0]\n",
    "for student in students:\n",
    "    if student[\"grade\"]>best_student[\"grade\"]:\n",
    "        best_student=student\n",
    "    \n",
    "print(f\"The student with the highest grade is {best_student[\"name\"]} with a grade of {best_student['grade']}\")"
   ]
  }
 ],
 "metadata": {
  "kernelspec": {
   "display_name": "Python 3",
   "language": "python",
   "name": "python3"
  },
  "language_info": {
   "codemirror_mode": {
    "name": "ipython",
    "version": 3
   },
   "file_extension": ".py",
   "mimetype": "text/x-python",
   "name": "python",
   "nbconvert_exporter": "python",
   "pygments_lexer": "ipython3",
   "version": "3.12.3"
  }
 },
 "nbformat": 4,
 "nbformat_minor": 2
}
