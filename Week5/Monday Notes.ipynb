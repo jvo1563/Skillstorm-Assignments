{
 "cells": [
  {
   "cell_type": "code",
   "execution_count": 0,
   "metadata": {
    "application/vnd.databricks.v1+cell": {
     "cellMetadata": {
      "byteLimit": 2048000,
      "rowLimit": 10000
     },
     "inputWidgets": {},
     "nuid": "f772bf26-f6e2-4496-b698-81617b93f042",
     "showTitle": false,
     "title": ""
    }
   },
   "outputs": [
    {
     "output_type": "display_data",
     "data": {
      "text/html": [
       "<style scoped>\n",
       "  .table-result-container {\n",
       "    max-height: 300px;\n",
       "    overflow: auto;\n",
       "  }\n",
       "  table, th, td {\n",
       "    border: 1px solid black;\n",
       "    border-collapse: collapse;\n",
       "  }\n",
       "  th, td {\n",
       "    padding: 5px;\n",
       "  }\n",
       "  th {\n",
       "    text-align: left;\n",
       "  }\n",
       "</style><div class='table-result-container'><table class='table-result'><thead style='background-color: white'><tr><th>path</th><th>name</th><th>size</th><th>modificationTime</th></tr></thead><tbody><tr><td>dbfs:/databricks-datasets/COVID/</td><td>COVID/</td><td>0</td><td>1721064981407</td></tr><tr><td>dbfs:/databricks-datasets/README.md</td><td>README.md</td><td>976</td><td>1532502324000</td></tr><tr><td>dbfs:/databricks-datasets/Rdatasets/</td><td>Rdatasets/</td><td>0</td><td>1721064981407</td></tr><tr><td>dbfs:/databricks-datasets/SPARK_README.md</td><td>SPARK_README.md</td><td>3359</td><td>1455505834000</td></tr><tr><td>dbfs:/databricks-datasets/adult/</td><td>adult/</td><td>0</td><td>1721064981407</td></tr><tr><td>dbfs:/databricks-datasets/airlines/</td><td>airlines/</td><td>0</td><td>1721064981407</td></tr><tr><td>dbfs:/databricks-datasets/amazon/</td><td>amazon/</td><td>0</td><td>1721064981407</td></tr><tr><td>dbfs:/databricks-datasets/asa/</td><td>asa/</td><td>0</td><td>1721064981407</td></tr><tr><td>dbfs:/databricks-datasets/atlas_higgs/</td><td>atlas_higgs/</td><td>0</td><td>1721064981407</td></tr><tr><td>dbfs:/databricks-datasets/bikeSharing/</td><td>bikeSharing/</td><td>0</td><td>1721064981407</td></tr><tr><td>dbfs:/databricks-datasets/cctvVideos/</td><td>cctvVideos/</td><td>0</td><td>1721064981407</td></tr><tr><td>dbfs:/databricks-datasets/credit-card-fraud/</td><td>credit-card-fraud/</td><td>0</td><td>1721064981407</td></tr><tr><td>dbfs:/databricks-datasets/cs100/</td><td>cs100/</td><td>0</td><td>1721064981407</td></tr><tr><td>dbfs:/databricks-datasets/cs110x/</td><td>cs110x/</td><td>0</td><td>1721064981407</td></tr><tr><td>dbfs:/databricks-datasets/cs190/</td><td>cs190/</td><td>0</td><td>1721064981407</td></tr><tr><td>dbfs:/databricks-datasets/data.gov/</td><td>data.gov/</td><td>0</td><td>1721064981407</td></tr><tr><td>dbfs:/databricks-datasets/definitive-guide/</td><td>definitive-guide/</td><td>0</td><td>1721064981407</td></tr><tr><td>dbfs:/databricks-datasets/delta-sharing/</td><td>delta-sharing/</td><td>0</td><td>1721064981407</td></tr><tr><td>dbfs:/databricks-datasets/flights/</td><td>flights/</td><td>0</td><td>1721064981407</td></tr><tr><td>dbfs:/databricks-datasets/flower_photos/</td><td>flower_photos/</td><td>0</td><td>1721064981407</td></tr><tr><td>dbfs:/databricks-datasets/flowers/</td><td>flowers/</td><td>0</td><td>1721064981407</td></tr><tr><td>dbfs:/databricks-datasets/genomics/</td><td>genomics/</td><td>0</td><td>1721064981407</td></tr><tr><td>dbfs:/databricks-datasets/hail/</td><td>hail/</td><td>0</td><td>1721064981407</td></tr><tr><td>dbfs:/databricks-datasets/identifying-campaign-effectiveness/</td><td>identifying-campaign-effectiveness/</td><td>0</td><td>1721064981407</td></tr><tr><td>dbfs:/databricks-datasets/inventory-reports/</td><td>inventory-reports/</td><td>0</td><td>1721064981407</td></tr><tr><td>dbfs:/databricks-datasets/iot/</td><td>iot/</td><td>0</td><td>1721064981407</td></tr><tr><td>dbfs:/databricks-datasets/iot-stream/</td><td>iot-stream/</td><td>0</td><td>1721064981407</td></tr><tr><td>dbfs:/databricks-datasets/learning-spark/</td><td>learning-spark/</td><td>0</td><td>1721064981407</td></tr><tr><td>dbfs:/databricks-datasets/learning-spark-v2/</td><td>learning-spark-v2/</td><td>0</td><td>1721064981407</td></tr><tr><td>dbfs:/databricks-datasets/lending-club-loan-stats/</td><td>lending-club-loan-stats/</td><td>0</td><td>1721064981407</td></tr><tr><td>dbfs:/databricks-datasets/med-images/</td><td>med-images/</td><td>0</td><td>1721064981407</td></tr><tr><td>dbfs:/databricks-datasets/media/</td><td>media/</td><td>0</td><td>1721064981407</td></tr><tr><td>dbfs:/databricks-datasets/mnist-digits/</td><td>mnist-digits/</td><td>0</td><td>1721064981407</td></tr><tr><td>dbfs:/databricks-datasets/news20.binary/</td><td>news20.binary/</td><td>0</td><td>1721064981407</td></tr><tr><td>dbfs:/databricks-datasets/nyctaxi/</td><td>nyctaxi/</td><td>0</td><td>1721064981407</td></tr><tr><td>dbfs:/databricks-datasets/nyctaxi-with-zipcodes/</td><td>nyctaxi-with-zipcodes/</td><td>0</td><td>1721064981407</td></tr><tr><td>dbfs:/databricks-datasets/online_retail/</td><td>online_retail/</td><td>0</td><td>1721064981407</td></tr><tr><td>dbfs:/databricks-datasets/overlap-join/</td><td>overlap-join/</td><td>0</td><td>1721064981407</td></tr><tr><td>dbfs:/databricks-datasets/power-plant/</td><td>power-plant/</td><td>0</td><td>1721064981407</td></tr><tr><td>dbfs:/databricks-datasets/retail-org/</td><td>retail-org/</td><td>0</td><td>1721064981407</td></tr><tr><td>dbfs:/databricks-datasets/rwe/</td><td>rwe/</td><td>0</td><td>1721064981407</td></tr><tr><td>dbfs:/databricks-datasets/sai-summit-2019-sf/</td><td>sai-summit-2019-sf/</td><td>0</td><td>1721064981407</td></tr><tr><td>dbfs:/databricks-datasets/sample_logs/</td><td>sample_logs/</td><td>0</td><td>1721064981407</td></tr><tr><td>dbfs:/databricks-datasets/samples/</td><td>samples/</td><td>0</td><td>1721064981407</td></tr><tr><td>dbfs:/databricks-datasets/sfo_customer_survey/</td><td>sfo_customer_survey/</td><td>0</td><td>1721064981407</td></tr><tr><td>dbfs:/databricks-datasets/sms_spam_collection/</td><td>sms_spam_collection/</td><td>0</td><td>1721064981407</td></tr><tr><td>dbfs:/databricks-datasets/songs/</td><td>songs/</td><td>0</td><td>1721064981407</td></tr><tr><td>dbfs:/databricks-datasets/structured-streaming/</td><td>structured-streaming/</td><td>0</td><td>1721064981407</td></tr><tr><td>dbfs:/databricks-datasets/timeseries/</td><td>timeseries/</td><td>0</td><td>1721064981407</td></tr><tr><td>dbfs:/databricks-datasets/tpch/</td><td>tpch/</td><td>0</td><td>1721064981407</td></tr><tr><td>dbfs:/databricks-datasets/travel_recommendations_realtime/</td><td>travel_recommendations_realtime/</td><td>0</td><td>1721064981407</td></tr><tr><td>dbfs:/databricks-datasets/warmup/</td><td>warmup/</td><td>0</td><td>1721064981407</td></tr><tr><td>dbfs:/databricks-datasets/weather/</td><td>weather/</td><td>0</td><td>1721064981407</td></tr><tr><td>dbfs:/databricks-datasets/wiki/</td><td>wiki/</td><td>0</td><td>1721064981407</td></tr><tr><td>dbfs:/databricks-datasets/wikipedia-datasets/</td><td>wikipedia-datasets/</td><td>0</td><td>1721064981407</td></tr><tr><td>dbfs:/databricks-datasets/wine-quality/</td><td>wine-quality/</td><td>0</td><td>1721064981407</td></tr></tbody></table></div>"
      ]
     },
     "metadata": {
      "application/vnd.databricks.v1+output": {
       "addedWidgets": {},
       "aggData": [],
       "aggError": "",
       "aggOverflow": false,
       "aggSchema": [],
       "aggSeriesLimitReached": false,
       "aggType": "",
       "arguments": {},
       "columnCustomDisplayInfos": {},
       "data": [
        [
         "dbfs:/databricks-datasets/COVID/",
         "COVID/",
         0,
         1721064981407
        ],
        [
         "dbfs:/databricks-datasets/README.md",
         "README.md",
         976,
         1532502324000
        ],
        [
         "dbfs:/databricks-datasets/Rdatasets/",
         "Rdatasets/",
         0,
         1721064981407
        ],
        [
         "dbfs:/databricks-datasets/SPARK_README.md",
         "SPARK_README.md",
         3359,
         1455505834000
        ],
        [
         "dbfs:/databricks-datasets/adult/",
         "adult/",
         0,
         1721064981407
        ],
        [
         "dbfs:/databricks-datasets/airlines/",
         "airlines/",
         0,
         1721064981407
        ],
        [
         "dbfs:/databricks-datasets/amazon/",
         "amazon/",
         0,
         1721064981407
        ],
        [
         "dbfs:/databricks-datasets/asa/",
         "asa/",
         0,
         1721064981407
        ],
        [
         "dbfs:/databricks-datasets/atlas_higgs/",
         "atlas_higgs/",
         0,
         1721064981407
        ],
        [
         "dbfs:/databricks-datasets/bikeSharing/",
         "bikeSharing/",
         0,
         1721064981407
        ],
        [
         "dbfs:/databricks-datasets/cctvVideos/",
         "cctvVideos/",
         0,
         1721064981407
        ],
        [
         "dbfs:/databricks-datasets/credit-card-fraud/",
         "credit-card-fraud/",
         0,
         1721064981407
        ],
        [
         "dbfs:/databricks-datasets/cs100/",
         "cs100/",
         0,
         1721064981407
        ],
        [
         "dbfs:/databricks-datasets/cs110x/",
         "cs110x/",
         0,
         1721064981407
        ],
        [
         "dbfs:/databricks-datasets/cs190/",
         "cs190/",
         0,
         1721064981407
        ],
        [
         "dbfs:/databricks-datasets/data.gov/",
         "data.gov/",
         0,
         1721064981407
        ],
        [
         "dbfs:/databricks-datasets/definitive-guide/",
         "definitive-guide/",
         0,
         1721064981407
        ],
        [
         "dbfs:/databricks-datasets/delta-sharing/",
         "delta-sharing/",
         0,
         1721064981407
        ],
        [
         "dbfs:/databricks-datasets/flights/",
         "flights/",
         0,
         1721064981407
        ],
        [
         "dbfs:/databricks-datasets/flower_photos/",
         "flower_photos/",
         0,
         1721064981407
        ],
        [
         "dbfs:/databricks-datasets/flowers/",
         "flowers/",
         0,
         1721064981407
        ],
        [
         "dbfs:/databricks-datasets/genomics/",
         "genomics/",
         0,
         1721064981407
        ],
        [
         "dbfs:/databricks-datasets/hail/",
         "hail/",
         0,
         1721064981407
        ],
        [
         "dbfs:/databricks-datasets/identifying-campaign-effectiveness/",
         "identifying-campaign-effectiveness/",
         0,
         1721064981407
        ],
        [
         "dbfs:/databricks-datasets/inventory-reports/",
         "inventory-reports/",
         0,
         1721064981407
        ],
        [
         "dbfs:/databricks-datasets/iot/",
         "iot/",
         0,
         1721064981407
        ],
        [
         "dbfs:/databricks-datasets/iot-stream/",
         "iot-stream/",
         0,
         1721064981407
        ],
        [
         "dbfs:/databricks-datasets/learning-spark/",
         "learning-spark/",
         0,
         1721064981407
        ],
        [
         "dbfs:/databricks-datasets/learning-spark-v2/",
         "learning-spark-v2/",
         0,
         1721064981407
        ],
        [
         "dbfs:/databricks-datasets/lending-club-loan-stats/",
         "lending-club-loan-stats/",
         0,
         1721064981407
        ],
        [
         "dbfs:/databricks-datasets/med-images/",
         "med-images/",
         0,
         1721064981407
        ],
        [
         "dbfs:/databricks-datasets/media/",
         "media/",
         0,
         1721064981407
        ],
        [
         "dbfs:/databricks-datasets/mnist-digits/",
         "mnist-digits/",
         0,
         1721064981407
        ],
        [
         "dbfs:/databricks-datasets/news20.binary/",
         "news20.binary/",
         0,
         1721064981407
        ],
        [
         "dbfs:/databricks-datasets/nyctaxi/",
         "nyctaxi/",
         0,
         1721064981407
        ],
        [
         "dbfs:/databricks-datasets/nyctaxi-with-zipcodes/",
         "nyctaxi-with-zipcodes/",
         0,
         1721064981407
        ],
        [
         "dbfs:/databricks-datasets/online_retail/",
         "online_retail/",
         0,
         1721064981407
        ],
        [
         "dbfs:/databricks-datasets/overlap-join/",
         "overlap-join/",
         0,
         1721064981407
        ],
        [
         "dbfs:/databricks-datasets/power-plant/",
         "power-plant/",
         0,
         1721064981407
        ],
        [
         "dbfs:/databricks-datasets/retail-org/",
         "retail-org/",
         0,
         1721064981407
        ],
        [
         "dbfs:/databricks-datasets/rwe/",
         "rwe/",
         0,
         1721064981407
        ],
        [
         "dbfs:/databricks-datasets/sai-summit-2019-sf/",
         "sai-summit-2019-sf/",
         0,
         1721064981407
        ],
        [
         "dbfs:/databricks-datasets/sample_logs/",
         "sample_logs/",
         0,
         1721064981407
        ],
        [
         "dbfs:/databricks-datasets/samples/",
         "samples/",
         0,
         1721064981407
        ],
        [
         "dbfs:/databricks-datasets/sfo_customer_survey/",
         "sfo_customer_survey/",
         0,
         1721064981407
        ],
        [
         "dbfs:/databricks-datasets/sms_spam_collection/",
         "sms_spam_collection/",
         0,
         1721064981407
        ],
        [
         "dbfs:/databricks-datasets/songs/",
         "songs/",
         0,
         1721064981407
        ],
        [
         "dbfs:/databricks-datasets/structured-streaming/",
         "structured-streaming/",
         0,
         1721064981407
        ],
        [
         "dbfs:/databricks-datasets/timeseries/",
         "timeseries/",
         0,
         1721064981407
        ],
        [
         "dbfs:/databricks-datasets/tpch/",
         "tpch/",
         0,
         1721064981407
        ],
        [
         "dbfs:/databricks-datasets/travel_recommendations_realtime/",
         "travel_recommendations_realtime/",
         0,
         1721064981407
        ],
        [
         "dbfs:/databricks-datasets/warmup/",
         "warmup/",
         0,
         1721064981407
        ],
        [
         "dbfs:/databricks-datasets/weather/",
         "weather/",
         0,
         1721064981407
        ],
        [
         "dbfs:/databricks-datasets/wiki/",
         "wiki/",
         0,
         1721064981407
        ],
        [
         "dbfs:/databricks-datasets/wikipedia-datasets/",
         "wikipedia-datasets/",
         0,
         1721064981407
        ],
        [
         "dbfs:/databricks-datasets/wine-quality/",
         "wine-quality/",
         0,
         1721064981407
        ]
       ],
       "datasetInfos": [],
       "dbfsResultPath": null,
       "isJsonSchema": true,
       "metadata": {},
       "overflow": false,
       "plotOptions": {
        "customPlotOptions": {},
        "displayType": "table",
        "pivotAggregation": null,
        "pivotColumns": null,
        "xColumns": null,
        "yColumns": null
       },
       "removedWidgets": [],
       "schema": [
        {
         "metadata": "{}",
         "name": "path",
         "type": "\"string\""
        },
        {
         "metadata": "{}",
         "name": "name",
         "type": "\"string\""
        },
        {
         "metadata": "{}",
         "name": "size",
         "type": "\"long\""
        },
        {
         "metadata": "{}",
         "name": "modificationTime",
         "type": "\"long\""
        }
       ],
       "type": "table"
      }
     },
     "output_type": "display_data"
    }
   ],
   "source": [
    "# Display is our action\n",
    "# dbutils = database util\n",
    "# fs = file system\n",
    "# ls = list\n",
    "display(dbutils.fs.ls('/databricks-datasets/'))\n",
    "\n",
    "# Linux command equivalent\n",
    "# user@linux dbfs/: databricks-datasets"
   ]
  },
  {
   "cell_type": "code",
   "execution_count": 0,
   "metadata": {
    "application/vnd.databricks.v1+cell": {
     "cellMetadata": {
      "byteLimit": 2048000,
      "rowLimit": 10000
     },
     "inputWidgets": {},
     "nuid": "deb8c59c-2620-4590-acca-2e421a0d144f",
     "showTitle": false,
     "title": ""
    }
   },
   "outputs": [
    {
     "output_type": "display_data",
     "data": {
      "text/html": [
       "<style scoped>\n",
       "  .table-result-container {\n",
       "    max-height: 300px;\n",
       "    overflow: auto;\n",
       "  }\n",
       "  table, th, td {\n",
       "    border: 1px solid black;\n",
       "    border-collapse: collapse;\n",
       "  }\n",
       "  th, td {\n",
       "    padding: 5px;\n",
       "  }\n",
       "  th {\n",
       "    text-align: left;\n",
       "  }\n",
       "</style><div class='table-result-container'><table class='table-result'><thead style='background-color: white'><tr><th>path</th><th>name</th><th>size</th><th>modificationTime</th></tr></thead><tbody><tr><td>dbfs:/databricks-datasets/nyctaxi/tripdata/yellow/yellow_tripdata_2009-01.csv.gz</td><td>yellow_tripdata_2009-01.csv.gz</td><td>504262564</td><td>1590525201000</td></tr><tr><td>dbfs:/databricks-datasets/nyctaxi/tripdata/yellow/yellow_tripdata_2009-02.csv.gz</td><td>yellow_tripdata_2009-02.csv.gz</td><td>480034681</td><td>1590525201000</td></tr><tr><td>dbfs:/databricks-datasets/nyctaxi/tripdata/yellow/yellow_tripdata_2009-03.csv.gz</td><td>yellow_tripdata_2009-03.csv.gz</td><td>521102719</td><td>1590525201000</td></tr><tr><td>dbfs:/databricks-datasets/nyctaxi/tripdata/yellow/yellow_tripdata_2009-04.csv.gz</td><td>yellow_tripdata_2009-04.csv.gz</td><td>515435466</td><td>1590525201000</td></tr><tr><td>dbfs:/databricks-datasets/nyctaxi/tripdata/yellow/yellow_tripdata_2009-05.csv.gz</td><td>yellow_tripdata_2009-05.csv.gz</td><td>531133739</td><td>1590525201000</td></tr><tr><td>dbfs:/databricks-datasets/nyctaxi/tripdata/yellow/yellow_tripdata_2009-06.csv.gz</td><td>yellow_tripdata_2009-06.csv.gz</td><td>508802995</td><td>1590525251000</td></tr><tr><td>dbfs:/databricks-datasets/nyctaxi/tripdata/yellow/yellow_tripdata_2009-07.csv.gz</td><td>yellow_tripdata_2009-07.csv.gz</td><td>487731497</td><td>1590525252000</td></tr><tr><td>dbfs:/databricks-datasets/nyctaxi/tripdata/yellow/yellow_tripdata_2009-08.csv.gz</td><td>yellow_tripdata_2009-08.csv.gz</td><td>490825210</td><td>1590525253000</td></tr><tr><td>dbfs:/databricks-datasets/nyctaxi/tripdata/yellow/yellow_tripdata_2009-09.csv.gz</td><td>yellow_tripdata_2009-09.csv.gz</td><td>503121179</td><td>1590525254000</td></tr><tr><td>dbfs:/databricks-datasets/nyctaxi/tripdata/yellow/yellow_tripdata_2009-10.csv.gz</td><td>yellow_tripdata_2009-10.csv.gz</td><td>567109604</td><td>1590525255000</td></tr><tr><td>dbfs:/databricks-datasets/nyctaxi/tripdata/yellow/yellow_tripdata_2009-11.csv.gz</td><td>yellow_tripdata_2009-11.csv.gz</td><td>520260634</td><td>1590525305000</td></tr><tr><td>dbfs:/databricks-datasets/nyctaxi/tripdata/yellow/yellow_tripdata_2009-12.csv.gz</td><td>yellow_tripdata_2009-12.csv.gz</td><td>530726595</td><td>1590525306000</td></tr><tr><td>dbfs:/databricks-datasets/nyctaxi/tripdata/yellow/yellow_tripdata_2010-01.csv.gz</td><td>yellow_tripdata_2010-01.csv.gz</td><td>565548417</td><td>1590525309000</td></tr><tr><td>dbfs:/databricks-datasets/nyctaxi/tripdata/yellow/yellow_tripdata_2010-02.csv.gz</td><td>yellow_tripdata_2010-02.csv.gz</td><td>396576504</td><td>1590525309000</td></tr><tr><td>dbfs:/databricks-datasets/nyctaxi/tripdata/yellow/yellow_tripdata_2010-03.csv.gz</td><td>yellow_tripdata_2010-03.csv.gz</td><td>456086101</td><td>1590525319000</td></tr><tr><td>dbfs:/databricks-datasets/nyctaxi/tripdata/yellow/yellow_tripdata_2010-04.csv.gz</td><td>yellow_tripdata_2010-04.csv.gz</td><td>579400917</td><td>1590525358000</td></tr><tr><td>dbfs:/databricks-datasets/nyctaxi/tripdata/yellow/yellow_tripdata_2010-05.csv.gz</td><td>yellow_tripdata_2010-05.csv.gz</td><td>593525883</td><td>1590525368000</td></tr><tr><td>dbfs:/databricks-datasets/nyctaxi/tripdata/yellow/yellow_tripdata_2010-06.csv.gz</td><td>yellow_tripdata_2010-06.csv.gz</td><td>568228308</td><td>1590525369000</td></tr><tr><td>dbfs:/databricks-datasets/nyctaxi/tripdata/yellow/yellow_tripdata_2010-07.csv.gz</td><td>yellow_tripdata_2010-07.csv.gz</td><td>562093150</td><td>1590525372000</td></tr><tr><td>dbfs:/databricks-datasets/nyctaxi/tripdata/yellow/yellow_tripdata_2010-08.csv.gz</td><td>yellow_tripdata_2010-08.csv.gz</td><td>441394152</td><td>1590525373000</td></tr><tr><td>dbfs:/databricks-datasets/nyctaxi/tripdata/yellow/yellow_tripdata_2010-09.csv.gz</td><td>yellow_tripdata_2010-09.csv.gz</td><td>560174405</td><td>1590525424000</td></tr><tr><td>dbfs:/databricks-datasets/nyctaxi/tripdata/yellow/yellow_tripdata_2010-10.csv.gz</td><td>yellow_tripdata_2010-10.csv.gz</td><td>515205924</td><td>1590525425000</td></tr><tr><td>dbfs:/databricks-datasets/nyctaxi/tripdata/yellow/yellow_tripdata_2010-11.csv.gz</td><td>yellow_tripdata_2010-11.csv.gz</td><td>490723375</td><td>1590525433000</td></tr><tr><td>dbfs:/databricks-datasets/nyctaxi/tripdata/yellow/yellow_tripdata_2010-12.csv.gz</td><td>yellow_tripdata_2010-12.csv.gz</td><td>489442107</td><td>1590525436000</td></tr><tr><td>dbfs:/databricks-datasets/nyctaxi/tripdata/yellow/yellow_tripdata_2011-01.csv.gz</td><td>yellow_tripdata_2011-01.csv.gz</td><td>468994648</td><td>1590525437000</td></tr><tr><td>dbfs:/databricks-datasets/nyctaxi/tripdata/yellow/yellow_tripdata_2011-02.csv.gz</td><td>yellow_tripdata_2011-02.csv.gz</td><td>500480531</td><td>1590525486000</td></tr><tr><td>dbfs:/databricks-datasets/nyctaxi/tripdata/yellow/yellow_tripdata_2011-03.csv.gz</td><td>yellow_tripdata_2011-03.csv.gz</td><td>562171945</td><td>1590525488000</td></tr><tr><td>dbfs:/databricks-datasets/nyctaxi/tripdata/yellow/yellow_tripdata_2011-04.csv.gz</td><td>yellow_tripdata_2011-04.csv.gz</td><td>516464131</td><td>1590525491000</td></tr><tr><td>dbfs:/databricks-datasets/nyctaxi/tripdata/yellow/yellow_tripdata_2011-05.csv.gz</td><td>yellow_tripdata_2011-05.csv.gz</td><td>547466370</td><td>1590525491000</td></tr><tr><td>dbfs:/databricks-datasets/nyctaxi/tripdata/yellow/yellow_tripdata_2011-06.csv.gz</td><td>yellow_tripdata_2011-06.csv.gz</td><td>533561250</td><td>1590525493000</td></tr><tr><td>dbfs:/databricks-datasets/nyctaxi/tripdata/yellow/yellow_tripdata_2011-07.csv.gz</td><td>yellow_tripdata_2011-07.csv.gz</td><td>511667361</td><td>1590525539000</td></tr><tr><td>dbfs:/databricks-datasets/nyctaxi/tripdata/yellow/yellow_tripdata_2011-08.csv.gz</td><td>yellow_tripdata_2011-08.csv.gz</td><td>479496009</td><td>1590525545000</td></tr><tr><td>dbfs:/databricks-datasets/nyctaxi/tripdata/yellow/yellow_tripdata_2011-09.csv.gz</td><td>yellow_tripdata_2011-09.csv.gz</td><td>519067867</td><td>1590525548000</td></tr><tr><td>dbfs:/databricks-datasets/nyctaxi/tripdata/yellow/yellow_tripdata_2011-10.csv.gz</td><td>yellow_tripdata_2011-10.csv.gz</td><td>555546037</td><td>1590525549000</td></tr><tr><td>dbfs:/databricks-datasets/nyctaxi/tripdata/yellow/yellow_tripdata_2011-11.csv.gz</td><td>yellow_tripdata_2011-11.csv.gz</td><td>505934258</td><td>1590525549000</td></tr><tr><td>dbfs:/databricks-datasets/nyctaxi/tripdata/yellow/yellow_tripdata_2011-12.csv.gz</td><td>yellow_tripdata_2011-12.csv.gz</td><td>521194284</td><td>1590525591000</td></tr><tr><td>dbfs:/databricks-datasets/nyctaxi/tripdata/yellow/yellow_tripdata_2012-01.csv.gz</td><td>yellow_tripdata_2012-01.csv.gz</td><td>542699629</td><td>1590525596000</td></tr><tr><td>dbfs:/databricks-datasets/nyctaxi/tripdata/yellow/yellow_tripdata_2012-02.csv.gz</td><td>yellow_tripdata_2012-02.csv.gz</td><td>538161783</td><td>1590525602000</td></tr><tr><td>dbfs:/databricks-datasets/nyctaxi/tripdata/yellow/yellow_tripdata_2012-03.csv.gz</td><td>yellow_tripdata_2012-03.csv.gz</td><td>577176001</td><td>1590525603000</td></tr><tr><td>dbfs:/databricks-datasets/nyctaxi/tripdata/yellow/yellow_tripdata_2012-04.csv.gz</td><td>yellow_tripdata_2012-04.csv.gz</td><td>543801972</td><td>1590525609000</td></tr><tr><td>dbfs:/databricks-datasets/nyctaxi/tripdata/yellow/yellow_tripdata_2012-05.csv.gz</td><td>yellow_tripdata_2012-05.csv.gz</td><td>549759424</td><td>1590525652000</td></tr><tr><td>dbfs:/databricks-datasets/nyctaxi/tripdata/yellow/yellow_tripdata_2012-06.csv.gz</td><td>yellow_tripdata_2012-06.csv.gz</td><td>536119707</td><td>1590525656000</td></tr><tr><td>dbfs:/databricks-datasets/nyctaxi/tripdata/yellow/yellow_tripdata_2012-07.csv.gz</td><td>yellow_tripdata_2012-07.csv.gz</td><td>509555120</td><td>1590525663000</td></tr><tr><td>dbfs:/databricks-datasets/nyctaxi/tripdata/yellow/yellow_tripdata_2012-08.csv.gz</td><td>yellow_tripdata_2012-08.csv.gz</td><td>511483352</td><td>1590525666000</td></tr><tr><td>dbfs:/databricks-datasets/nyctaxi/tripdata/yellow/yellow_tripdata_2012-09.csv.gz</td><td>yellow_tripdata_2012-09.csv.gz</td><td>459381547</td><td>1590525669000</td></tr><tr><td>dbfs:/databricks-datasets/nyctaxi/tripdata/yellow/yellow_tripdata_2012-10.csv.gz</td><td>yellow_tripdata_2012-10.csv.gz</td><td>468143217</td><td>1590525708000</td></tr><tr><td>dbfs:/databricks-datasets/nyctaxi/tripdata/yellow/yellow_tripdata_2012-11.csv.gz</td><td>yellow_tripdata_2012-11.csv.gz</td><td>443832708</td><td>1590525713000</td></tr><tr><td>dbfs:/databricks-datasets/nyctaxi/tripdata/yellow/yellow_tripdata_2012-12.csv.gz</td><td>yellow_tripdata_2012-12.csv.gz</td><td>493139441</td><td>1590525717000</td></tr><tr><td>dbfs:/databricks-datasets/nyctaxi/tripdata/yellow/yellow_tripdata_2013-01.csv.gz</td><td>yellow_tripdata_2013-01.csv.gz</td><td>478262343</td><td>1590525718000</td></tr><tr><td>dbfs:/databricks-datasets/nyctaxi/tripdata/yellow/yellow_tripdata_2013-02.csv.gz</td><td>yellow_tripdata_2013-02.csv.gz</td><td>451683985</td><td>1590525721000</td></tr><tr><td>dbfs:/databricks-datasets/nyctaxi/tripdata/yellow/yellow_tripdata_2013-03.csv.gz</td><td>yellow_tripdata_2013-03.csv.gz</td><td>516448368</td><td>1590525760000</td></tr><tr><td>dbfs:/databricks-datasets/nyctaxi/tripdata/yellow/yellow_tripdata_2013-04.csv.gz</td><td>yellow_tripdata_2013-04.csv.gz</td><td>500106589</td><td>1590525761000</td></tr><tr><td>dbfs:/databricks-datasets/nyctaxi/tripdata/yellow/yellow_tripdata_2013-05.csv.gz</td><td>yellow_tripdata_2013-05.csv.gz</td><td>493978775</td><td>1590525770000</td></tr><tr><td>dbfs:/databricks-datasets/nyctaxi/tripdata/yellow/yellow_tripdata_2013-06.csv.gz</td><td>yellow_tripdata_2013-06.csv.gz</td><td>472703135</td><td>1590525770000</td></tr><tr><td>dbfs:/databricks-datasets/nyctaxi/tripdata/yellow/yellow_tripdata_2013-07.csv.gz</td><td>yellow_tripdata_2013-07.csv.gz</td><td>450013796</td><td>1590525770000</td></tr><tr><td>dbfs:/databricks-datasets/nyctaxi/tripdata/yellow/yellow_tripdata_2013-08.csv.gz</td><td>yellow_tripdata_2013-08.csv.gz</td><td>421885789</td><td>1590525812000</td></tr><tr><td>dbfs:/databricks-datasets/nyctaxi/tripdata/yellow/yellow_tripdata_2013-09.csv.gz</td><td>yellow_tripdata_2013-09.csv.gz</td><td>481546619</td><td>1590525813000</td></tr><tr><td>dbfs:/databricks-datasets/nyctaxi/tripdata/yellow/yellow_tripdata_2013-10.csv.gz</td><td>yellow_tripdata_2013-10.csv.gz</td><td>500785608</td><td>1590525818000</td></tr><tr><td>dbfs:/databricks-datasets/nyctaxi/tripdata/yellow/yellow_tripdata_2013-11.csv.gz</td><td>yellow_tripdata_2013-11.csv.gz</td><td>481124327</td><td>1590525820000</td></tr><tr><td>dbfs:/databricks-datasets/nyctaxi/tripdata/yellow/yellow_tripdata_2013-12.csv.gz</td><td>yellow_tripdata_2013-12.csv.gz</td><td>459830158</td><td>1590525821000</td></tr><tr><td>dbfs:/databricks-datasets/nyctaxi/tripdata/yellow/yellow_tripdata_2014-01.csv.gz</td><td>yellow_tripdata_2014-01.csv.gz</td><td>445284946</td><td>1590525861000</td></tr><tr><td>dbfs:/databricks-datasets/nyctaxi/tripdata/yellow/yellow_tripdata_2014-02.csv.gz</td><td>yellow_tripdata_2014-02.csv.gz</td><td>427962052</td><td>1590525866000</td></tr><tr><td>dbfs:/databricks-datasets/nyctaxi/tripdata/yellow/yellow_tripdata_2014-03.csv.gz</td><td>yellow_tripdata_2014-03.csv.gz</td><td>512115757</td><td>1590525873000</td></tr><tr><td>dbfs:/databricks-datasets/nyctaxi/tripdata/yellow/yellow_tripdata_2014-04.csv.gz</td><td>yellow_tripdata_2014-04.csv.gz</td><td>475749569</td><td>1590525873000</td></tr><tr><td>dbfs:/databricks-datasets/nyctaxi/tripdata/yellow/yellow_tripdata_2014-05.csv.gz</td><td>yellow_tripdata_2014-05.csv.gz</td><td>485741383</td><td>1590525874000</td></tr><tr><td>dbfs:/databricks-datasets/nyctaxi/tripdata/yellow/yellow_tripdata_2014-06.csv.gz</td><td>yellow_tripdata_2014-06.csv.gz</td><td>456035000</td><td>1590525912000</td></tr><tr><td>dbfs:/databricks-datasets/nyctaxi/tripdata/yellow/yellow_tripdata_2014-07.csv.gz</td><td>yellow_tripdata_2014-07.csv.gz</td><td>425991155</td><td>1590525917000</td></tr><tr><td>dbfs:/databricks-datasets/nyctaxi/tripdata/yellow/yellow_tripdata_2014-08.csv.gz</td><td>yellow_tripdata_2014-08.csv.gz</td><td>419345164</td><td>1590525929000</td></tr><tr><td>dbfs:/databricks-datasets/nyctaxi/tripdata/yellow/yellow_tripdata_2014-09.csv.gz</td><td>yellow_tripdata_2014-09.csv.gz</td><td>443182114</td><td>1590525931000</td></tr><tr><td>dbfs:/databricks-datasets/nyctaxi/tripdata/yellow/yellow_tripdata_2014-10.csv.gz</td><td>yellow_tripdata_2014-10.csv.gz</td><td>466041865</td><td>1590525933000</td></tr><tr><td>dbfs:/databricks-datasets/nyctaxi/tripdata/yellow/yellow_tripdata_2014-11.csv.gz</td><td>yellow_tripdata_2014-11.csv.gz</td><td>437336437</td><td>1590525968000</td></tr><tr><td>dbfs:/databricks-datasets/nyctaxi/tripdata/yellow/yellow_tripdata_2014-12.csv.gz</td><td>yellow_tripdata_2014-12.csv.gz</td><td>431611778</td><td>1590525969000</td></tr><tr><td>dbfs:/databricks-datasets/nyctaxi/tripdata/yellow/yellow_tripdata_2015-01.csv.gz</td><td>yellow_tripdata_2015-01.csv.gz</td><td>510982711</td><td>1590525977000</td></tr><tr><td>dbfs:/databricks-datasets/nyctaxi/tripdata/yellow/yellow_tripdata_2015-02.csv.gz</td><td>yellow_tripdata_2015-02.csv.gz</td><td>498934977</td><td>1590525982000</td></tr><tr><td>dbfs:/databricks-datasets/nyctaxi/tripdata/yellow/yellow_tripdata_2015-03.csv.gz</td><td>yellow_tripdata_2015-03.csv.gz</td><td>536626429</td><td>1590525987000</td></tr><tr><td>dbfs:/databricks-datasets/nyctaxi/tripdata/yellow/yellow_tripdata_2015-04.csv.gz</td><td>yellow_tripdata_2015-04.csv.gz</td><td>526278868</td><td>1590526014000</td></tr><tr><td>dbfs:/databricks-datasets/nyctaxi/tripdata/yellow/yellow_tripdata_2015-05.csv.gz</td><td>yellow_tripdata_2015-05.csv.gz</td><td>528674128</td><td>1590526014000</td></tr><tr><td>dbfs:/databricks-datasets/nyctaxi/tripdata/yellow/yellow_tripdata_2015-06.csv.gz</td><td>yellow_tripdata_2015-06.csv.gz</td><td>484887977</td><td>1590526031000</td></tr><tr><td>dbfs:/databricks-datasets/nyctaxi/tripdata/yellow/yellow_tripdata_2015-07.csv.gz</td><td>yellow_tripdata_2015-07.csv.gz</td><td>448653527</td><td>1590526035000</td></tr><tr><td>dbfs:/databricks-datasets/nyctaxi/tripdata/yellow/yellow_tripdata_2015-08.csv.gz</td><td>yellow_tripdata_2015-08.csv.gz</td><td>432743918</td><td>1590526044000</td></tr><tr><td>dbfs:/databricks-datasets/nyctaxi/tripdata/yellow/yellow_tripdata_2015-09.csv.gz</td><td>yellow_tripdata_2015-09.csv.gz</td><td>436791892</td><td>1590526073000</td></tr><tr><td>dbfs:/databricks-datasets/nyctaxi/tripdata/yellow/yellow_tripdata_2015-10.csv.gz</td><td>yellow_tripdata_2015-10.csv.gz</td><td>478620813</td><td>1590526073000</td></tr><tr><td>dbfs:/databricks-datasets/nyctaxi/tripdata/yellow/yellow_tripdata_2015-11.csv.gz</td><td>yellow_tripdata_2015-11.csv.gz</td><td>439257795</td><td>1590526084000</td></tr><tr><td>dbfs:/databricks-datasets/nyctaxi/tripdata/yellow/yellow_tripdata_2015-12.csv.gz</td><td>yellow_tripdata_2015-12.csv.gz</td><td>445153178</td><td>1590526084000</td></tr><tr><td>dbfs:/databricks-datasets/nyctaxi/tripdata/yellow/yellow_tripdata_2016-01.csv.gz</td><td>yellow_tripdata_2016-01.csv.gz</td><td>421734912</td><td>1590526092000</td></tr><tr><td>dbfs:/databricks-datasets/nyctaxi/tripdata/yellow/yellow_tripdata_2016-02.csv.gz</td><td>yellow_tripdata_2016-02.csv.gz</td><td>439029046</td><td>1590526121000</td></tr><tr><td>dbfs:/databricks-datasets/nyctaxi/tripdata/yellow/yellow_tripdata_2016-03.csv.gz</td><td>yellow_tripdata_2016-03.csv.gz</td><td>472243929</td><td>1590526127000</td></tr><tr><td>dbfs:/databricks-datasets/nyctaxi/tripdata/yellow/yellow_tripdata_2016-04.csv.gz</td><td>yellow_tripdata_2016-04.csv.gz</td><td>463706594</td><td>1590526134000</td></tr><tr><td>dbfs:/databricks-datasets/nyctaxi/tripdata/yellow/yellow_tripdata_2016-05.csv.gz</td><td>yellow_tripdata_2016-05.csv.gz</td><td>463046642</td><td>1590526135000</td></tr><tr><td>dbfs:/databricks-datasets/nyctaxi/tripdata/yellow/yellow_tripdata_2016-06.csv.gz</td><td>yellow_tripdata_2016-06.csv.gz</td><td>435640067</td><td>1590526138000</td></tr><tr><td>dbfs:/databricks-datasets/nyctaxi/tripdata/yellow/yellow_tripdata_2016-07.csv.gz</td><td>yellow_tripdata_2016-07.csv.gz</td><td>155772486</td><td>1590526165000</td></tr><tr><td>dbfs:/databricks-datasets/nyctaxi/tripdata/yellow/yellow_tripdata_2016-08.csv.gz</td><td>yellow_tripdata_2016-08.csv.gz</td><td>149189301</td><td>1590526174000</td></tr><tr><td>dbfs:/databricks-datasets/nyctaxi/tripdata/yellow/yellow_tripdata_2016-09.csv.gz</td><td>yellow_tripdata_2016-09.csv.gz</td><td>154436403</td><td>1590526179000</td></tr><tr><td>dbfs:/databricks-datasets/nyctaxi/tripdata/yellow/yellow_tripdata_2016-10.csv.gz</td><td>yellow_tripdata_2016-10.csv.gz</td><td>164098675</td><td>1590526180000</td></tr><tr><td>dbfs:/databricks-datasets/nyctaxi/tripdata/yellow/yellow_tripdata_2016-11.csv.gz</td><td>yellow_tripdata_2016-11.csv.gz</td><td>152816358</td><td>1590526181000</td></tr><tr><td>dbfs:/databricks-datasets/nyctaxi/tripdata/yellow/yellow_tripdata_2016-12.csv.gz</td><td>yellow_tripdata_2016-12.csv.gz</td><td>157413907</td><td>1590526182000</td></tr><tr><td>dbfs:/databricks-datasets/nyctaxi/tripdata/yellow/yellow_tripdata_2017-01.csv.gz</td><td>yellow_tripdata_2017-01.csv.gz</td><td>144492027</td><td>1590526188000</td></tr><tr><td>dbfs:/databricks-datasets/nyctaxi/tripdata/yellow/yellow_tripdata_2017-02.csv.gz</td><td>yellow_tripdata_2017-02.csv.gz</td><td>136659107</td><td>1590526196000</td></tr><tr><td>dbfs:/databricks-datasets/nyctaxi/tripdata/yellow/yellow_tripdata_2017-03.csv.gz</td><td>yellow_tripdata_2017-03.csv.gz</td><td>154604320</td><td>1590526198000</td></tr><tr><td>dbfs:/databricks-datasets/nyctaxi/tripdata/yellow/yellow_tripdata_2017-04.csv.gz</td><td>yellow_tripdata_2017-04.csv.gz</td><td>150995632</td><td>1590526198000</td></tr><tr><td>dbfs:/databricks-datasets/nyctaxi/tripdata/yellow/yellow_tripdata_2017-05.csv.gz</td><td>yellow_tripdata_2017-05.csv.gz</td><td>152513179</td><td>1590526198000</td></tr><tr><td>dbfs:/databricks-datasets/nyctaxi/tripdata/yellow/yellow_tripdata_2017-06.csv.gz</td><td>yellow_tripdata_2017-06.csv.gz</td><td>144967379</td><td>1590526205000</td></tr><tr><td>dbfs:/databricks-datasets/nyctaxi/tripdata/yellow/yellow_tripdata_2017-07.csv.gz</td><td>yellow_tripdata_2017-07.csv.gz</td><td>141141934</td><td>1590526212000</td></tr><tr><td>dbfs:/databricks-datasets/nyctaxi/tripdata/yellow/yellow_tripdata_2017-08.csv.gz</td><td>yellow_tripdata_2017-08.csv.gz</td><td>138415411</td><td>1590526215000</td></tr><tr><td>dbfs:/databricks-datasets/nyctaxi/tripdata/yellow/yellow_tripdata_2017-09.csv.gz</td><td>yellow_tripdata_2017-09.csv.gz</td><td>147622574</td><td>1590526215000</td></tr><tr><td>dbfs:/databricks-datasets/nyctaxi/tripdata/yellow/yellow_tripdata_2017-10.csv.gz</td><td>yellow_tripdata_2017-10.csv.gz</td><td>160943166</td><td>1590526216000</td></tr><tr><td>dbfs:/databricks-datasets/nyctaxi/tripdata/yellow/yellow_tripdata_2017-11.csv.gz</td><td>yellow_tripdata_2017-11.csv.gz</td><td>152770049</td><td>1590526221000</td></tr><tr><td>dbfs:/databricks-datasets/nyctaxi/tripdata/yellow/yellow_tripdata_2017-12.csv.gz</td><td>yellow_tripdata_2017-12.csv.gz</td><td>156184671</td><td>1590526226000</td></tr><tr><td>dbfs:/databricks-datasets/nyctaxi/tripdata/yellow/yellow_tripdata_2018-01.csv.gz</td><td>yellow_tripdata_2018-01.csv.gz</td><td>143211519</td><td>1590526229000</td></tr><tr><td>dbfs:/databricks-datasets/nyctaxi/tripdata/yellow/yellow_tripdata_2018-02.csv.gz</td><td>yellow_tripdata_2018-02.csv.gz</td><td>139062994</td><td>1590526230000</td></tr><tr><td>dbfs:/databricks-datasets/nyctaxi/tripdata/yellow/yellow_tripdata_2018-03.csv.gz</td><td>yellow_tripdata_2018-03.csv.gz</td><td>155108281</td><td>1590526232000</td></tr><tr><td>dbfs:/databricks-datasets/nyctaxi/tripdata/yellow/yellow_tripdata_2018-04.csv.gz</td><td>yellow_tripdata_2018-04.csv.gz</td><td>153504004</td><td>1590526238000</td></tr><tr><td>dbfs:/databricks-datasets/nyctaxi/tripdata/yellow/yellow_tripdata_2018-05.csv.gz</td><td>yellow_tripdata_2018-05.csv.gz</td><td>152775398</td><td>1590526244000</td></tr><tr><td>dbfs:/databricks-datasets/nyctaxi/tripdata/yellow/yellow_tripdata_2018-06.csv.gz</td><td>yellow_tripdata_2018-06.csv.gz</td><td>144377468</td><td>1590526246000</td></tr><tr><td>dbfs:/databricks-datasets/nyctaxi/tripdata/yellow/yellow_tripdata_2018-07.csv.gz</td><td>yellow_tripdata_2018-07.csv.gz</td><td>129810520</td><td>1590526246000</td></tr><tr><td>dbfs:/databricks-datasets/nyctaxi/tripdata/yellow/yellow_tripdata_2018-08.csv.gz</td><td>yellow_tripdata_2018-08.csv.gz</td><td>129874126</td><td>1590526251000</td></tr><tr><td>dbfs:/databricks-datasets/nyctaxi/tripdata/yellow/yellow_tripdata_2018-09.csv.gz</td><td>yellow_tripdata_2018-09.csv.gz</td><td>133683366</td><td>1590526256000</td></tr><tr><td>dbfs:/databricks-datasets/nyctaxi/tripdata/yellow/yellow_tripdata_2018-10.csv.gz</td><td>yellow_tripdata_2018-10.csv.gz</td><td>146678859</td><td>1590526263000</td></tr><tr><td>dbfs:/databricks-datasets/nyctaxi/tripdata/yellow/yellow_tripdata_2018-11.csv.gz</td><td>yellow_tripdata_2018-11.csv.gz</td><td>135364951</td><td>1590526264000</td></tr><tr><td>dbfs:/databricks-datasets/nyctaxi/tripdata/yellow/yellow_tripdata_2018-12.csv.gz</td><td>yellow_tripdata_2018-12.csv.gz</td><td>135612832</td><td>1590526264000</td></tr><tr><td>dbfs:/databricks-datasets/nyctaxi/tripdata/yellow/yellow_tripdata_2019-01.csv.gz</td><td>yellow_tripdata_2019-01.csv.gz</td><td>126896536</td><td>1590526267000</td></tr><tr><td>dbfs:/databricks-datasets/nyctaxi/tripdata/yellow/yellow_tripdata_2019-02.csv.gz</td><td>yellow_tripdata_2019-02.csv.gz</td><td>121172953</td><td>1590526272000</td></tr><tr><td>dbfs:/databricks-datasets/nyctaxi/tripdata/yellow/yellow_tripdata_2019-03.csv.gz</td><td>yellow_tripdata_2019-03.csv.gz</td><td>135816827</td><td>1590526279000</td></tr><tr><td>dbfs:/databricks-datasets/nyctaxi/tripdata/yellow/yellow_tripdata_2019-04.csv.gz</td><td>yellow_tripdata_2019-04.csv.gz</td><td>128774049</td><td>1590526279000</td></tr><tr><td>dbfs:/databricks-datasets/nyctaxi/tripdata/yellow/yellow_tripdata_2019-05.csv.gz</td><td>yellow_tripdata_2019-05.csv.gz</td><td>131394988</td><td>1590526279000</td></tr><tr><td>dbfs:/databricks-datasets/nyctaxi/tripdata/yellow/yellow_tripdata_2019-06.csv.gz</td><td>yellow_tripdata_2019-06.csv.gz</td><td>120767491</td><td>1590526282000</td></tr><tr><td>dbfs:/databricks-datasets/nyctaxi/tripdata/yellow/yellow_tripdata_2019-07.csv.gz</td><td>yellow_tripdata_2019-07.csv.gz</td><td>109579693</td><td>1590526286000</td></tr><tr><td>dbfs:/databricks-datasets/nyctaxi/tripdata/yellow/yellow_tripdata_2019-08.csv.gz</td><td>yellow_tripdata_2019-08.csv.gz</td><td>105492899</td><td>1590526293000</td></tr><tr><td>dbfs:/databricks-datasets/nyctaxi/tripdata/yellow/yellow_tripdata_2019-09.csv.gz</td><td>yellow_tripdata_2019-09.csv.gz</td><td>114297190</td><td>1590526293000</td></tr><tr><td>dbfs:/databricks-datasets/nyctaxi/tripdata/yellow/yellow_tripdata_2019-10.csv.gz</td><td>yellow_tripdata_2019-10.csv.gz</td><td>125220156</td><td>1590526293000</td></tr><tr><td>dbfs:/databricks-datasets/nyctaxi/tripdata/yellow/yellow_tripdata_2019-11.csv.gz</td><td>yellow_tripdata_2019-11.csv.gz</td><td>119085913</td><td>1590526294000</td></tr><tr><td>dbfs:/databricks-datasets/nyctaxi/tripdata/yellow/yellow_tripdata_2019-12.csv.gz</td><td>yellow_tripdata_2019-12.csv.gz</td><td>119637211</td><td>1590526297000</td></tr></tbody></table></div>"
      ]
     },
     "metadata": {
      "application/vnd.databricks.v1+output": {
       "addedWidgets": {},
       "aggData": [],
       "aggError": "",
       "aggOverflow": false,
       "aggSchema": [],
       "aggSeriesLimitReached": false,
       "aggType": "",
       "arguments": {},
       "columnCustomDisplayInfos": {},
       "data": [
        [
         "dbfs:/databricks-datasets/nyctaxi/tripdata/yellow/yellow_tripdata_2009-01.csv.gz",
         "yellow_tripdata_2009-01.csv.gz",
         504262564,
         1590525201000
        ],
        [
         "dbfs:/databricks-datasets/nyctaxi/tripdata/yellow/yellow_tripdata_2009-02.csv.gz",
         "yellow_tripdata_2009-02.csv.gz",
         480034681,
         1590525201000
        ],
        [
         "dbfs:/databricks-datasets/nyctaxi/tripdata/yellow/yellow_tripdata_2009-03.csv.gz",
         "yellow_tripdata_2009-03.csv.gz",
         521102719,
         1590525201000
        ],
        [
         "dbfs:/databricks-datasets/nyctaxi/tripdata/yellow/yellow_tripdata_2009-04.csv.gz",
         "yellow_tripdata_2009-04.csv.gz",
         515435466,
         1590525201000
        ],
        [
         "dbfs:/databricks-datasets/nyctaxi/tripdata/yellow/yellow_tripdata_2009-05.csv.gz",
         "yellow_tripdata_2009-05.csv.gz",
         531133739,
         1590525201000
        ],
        [
         "dbfs:/databricks-datasets/nyctaxi/tripdata/yellow/yellow_tripdata_2009-06.csv.gz",
         "yellow_tripdata_2009-06.csv.gz",
         508802995,
         1590525251000
        ],
        [
         "dbfs:/databricks-datasets/nyctaxi/tripdata/yellow/yellow_tripdata_2009-07.csv.gz",
         "yellow_tripdata_2009-07.csv.gz",
         487731497,
         1590525252000
        ],
        [
         "dbfs:/databricks-datasets/nyctaxi/tripdata/yellow/yellow_tripdata_2009-08.csv.gz",
         "yellow_tripdata_2009-08.csv.gz",
         490825210,
         1590525253000
        ],
        [
         "dbfs:/databricks-datasets/nyctaxi/tripdata/yellow/yellow_tripdata_2009-09.csv.gz",
         "yellow_tripdata_2009-09.csv.gz",
         503121179,
         1590525254000
        ],
        [
         "dbfs:/databricks-datasets/nyctaxi/tripdata/yellow/yellow_tripdata_2009-10.csv.gz",
         "yellow_tripdata_2009-10.csv.gz",
         567109604,
         1590525255000
        ],
        [
         "dbfs:/databricks-datasets/nyctaxi/tripdata/yellow/yellow_tripdata_2009-11.csv.gz",
         "yellow_tripdata_2009-11.csv.gz",
         520260634,
         1590525305000
        ],
        [
         "dbfs:/databricks-datasets/nyctaxi/tripdata/yellow/yellow_tripdata_2009-12.csv.gz",
         "yellow_tripdata_2009-12.csv.gz",
         530726595,
         1590525306000
        ],
        [
         "dbfs:/databricks-datasets/nyctaxi/tripdata/yellow/yellow_tripdata_2010-01.csv.gz",
         "yellow_tripdata_2010-01.csv.gz",
         565548417,
         1590525309000
        ],
        [
         "dbfs:/databricks-datasets/nyctaxi/tripdata/yellow/yellow_tripdata_2010-02.csv.gz",
         "yellow_tripdata_2010-02.csv.gz",
         396576504,
         1590525309000
        ],
        [
         "dbfs:/databricks-datasets/nyctaxi/tripdata/yellow/yellow_tripdata_2010-03.csv.gz",
         "yellow_tripdata_2010-03.csv.gz",
         456086101,
         1590525319000
        ],
        [
         "dbfs:/databricks-datasets/nyctaxi/tripdata/yellow/yellow_tripdata_2010-04.csv.gz",
         "yellow_tripdata_2010-04.csv.gz",
         579400917,
         1590525358000
        ],
        [
         "dbfs:/databricks-datasets/nyctaxi/tripdata/yellow/yellow_tripdata_2010-05.csv.gz",
         "yellow_tripdata_2010-05.csv.gz",
         593525883,
         1590525368000
        ],
        [
         "dbfs:/databricks-datasets/nyctaxi/tripdata/yellow/yellow_tripdata_2010-06.csv.gz",
         "yellow_tripdata_2010-06.csv.gz",
         568228308,
         1590525369000
        ],
        [
         "dbfs:/databricks-datasets/nyctaxi/tripdata/yellow/yellow_tripdata_2010-07.csv.gz",
         "yellow_tripdata_2010-07.csv.gz",
         562093150,
         1590525372000
        ],
        [
         "dbfs:/databricks-datasets/nyctaxi/tripdata/yellow/yellow_tripdata_2010-08.csv.gz",
         "yellow_tripdata_2010-08.csv.gz",
         441394152,
         1590525373000
        ],
        [
         "dbfs:/databricks-datasets/nyctaxi/tripdata/yellow/yellow_tripdata_2010-09.csv.gz",
         "yellow_tripdata_2010-09.csv.gz",
         560174405,
         1590525424000
        ],
        [
         "dbfs:/databricks-datasets/nyctaxi/tripdata/yellow/yellow_tripdata_2010-10.csv.gz",
         "yellow_tripdata_2010-10.csv.gz",
         515205924,
         1590525425000
        ],
        [
         "dbfs:/databricks-datasets/nyctaxi/tripdata/yellow/yellow_tripdata_2010-11.csv.gz",
         "yellow_tripdata_2010-11.csv.gz",
         490723375,
         1590525433000
        ],
        [
         "dbfs:/databricks-datasets/nyctaxi/tripdata/yellow/yellow_tripdata_2010-12.csv.gz",
         "yellow_tripdata_2010-12.csv.gz",
         489442107,
         1590525436000
        ],
        [
         "dbfs:/databricks-datasets/nyctaxi/tripdata/yellow/yellow_tripdata_2011-01.csv.gz",
         "yellow_tripdata_2011-01.csv.gz",
         468994648,
         1590525437000
        ],
        [
         "dbfs:/databricks-datasets/nyctaxi/tripdata/yellow/yellow_tripdata_2011-02.csv.gz",
         "yellow_tripdata_2011-02.csv.gz",
         500480531,
         1590525486000
        ],
        [
         "dbfs:/databricks-datasets/nyctaxi/tripdata/yellow/yellow_tripdata_2011-03.csv.gz",
         "yellow_tripdata_2011-03.csv.gz",
         562171945,
         1590525488000
        ],
        [
         "dbfs:/databricks-datasets/nyctaxi/tripdata/yellow/yellow_tripdata_2011-04.csv.gz",
         "yellow_tripdata_2011-04.csv.gz",
         516464131,
         1590525491000
        ],
        [
         "dbfs:/databricks-datasets/nyctaxi/tripdata/yellow/yellow_tripdata_2011-05.csv.gz",
         "yellow_tripdata_2011-05.csv.gz",
         547466370,
         1590525491000
        ],
        [
         "dbfs:/databricks-datasets/nyctaxi/tripdata/yellow/yellow_tripdata_2011-06.csv.gz",
         "yellow_tripdata_2011-06.csv.gz",
         533561250,
         1590525493000
        ],
        [
         "dbfs:/databricks-datasets/nyctaxi/tripdata/yellow/yellow_tripdata_2011-07.csv.gz",
         "yellow_tripdata_2011-07.csv.gz",
         511667361,
         1590525539000
        ],
        [
         "dbfs:/databricks-datasets/nyctaxi/tripdata/yellow/yellow_tripdata_2011-08.csv.gz",
         "yellow_tripdata_2011-08.csv.gz",
         479496009,
         1590525545000
        ],
        [
         "dbfs:/databricks-datasets/nyctaxi/tripdata/yellow/yellow_tripdata_2011-09.csv.gz",
         "yellow_tripdata_2011-09.csv.gz",
         519067867,
         1590525548000
        ],
        [
         "dbfs:/databricks-datasets/nyctaxi/tripdata/yellow/yellow_tripdata_2011-10.csv.gz",
         "yellow_tripdata_2011-10.csv.gz",
         555546037,
         1590525549000
        ],
        [
         "dbfs:/databricks-datasets/nyctaxi/tripdata/yellow/yellow_tripdata_2011-11.csv.gz",
         "yellow_tripdata_2011-11.csv.gz",
         505934258,
         1590525549000
        ],
        [
         "dbfs:/databricks-datasets/nyctaxi/tripdata/yellow/yellow_tripdata_2011-12.csv.gz",
         "yellow_tripdata_2011-12.csv.gz",
         521194284,
         1590525591000
        ],
        [
         "dbfs:/databricks-datasets/nyctaxi/tripdata/yellow/yellow_tripdata_2012-01.csv.gz",
         "yellow_tripdata_2012-01.csv.gz",
         542699629,
         1590525596000
        ],
        [
         "dbfs:/databricks-datasets/nyctaxi/tripdata/yellow/yellow_tripdata_2012-02.csv.gz",
         "yellow_tripdata_2012-02.csv.gz",
         538161783,
         1590525602000
        ],
        [
         "dbfs:/databricks-datasets/nyctaxi/tripdata/yellow/yellow_tripdata_2012-03.csv.gz",
         "yellow_tripdata_2012-03.csv.gz",
         577176001,
         1590525603000
        ],
        [
         "dbfs:/databricks-datasets/nyctaxi/tripdata/yellow/yellow_tripdata_2012-04.csv.gz",
         "yellow_tripdata_2012-04.csv.gz",
         543801972,
         1590525609000
        ],
        [
         "dbfs:/databricks-datasets/nyctaxi/tripdata/yellow/yellow_tripdata_2012-05.csv.gz",
         "yellow_tripdata_2012-05.csv.gz",
         549759424,
         1590525652000
        ],
        [
         "dbfs:/databricks-datasets/nyctaxi/tripdata/yellow/yellow_tripdata_2012-06.csv.gz",
         "yellow_tripdata_2012-06.csv.gz",
         536119707,
         1590525656000
        ],
        [
         "dbfs:/databricks-datasets/nyctaxi/tripdata/yellow/yellow_tripdata_2012-07.csv.gz",
         "yellow_tripdata_2012-07.csv.gz",
         509555120,
         1590525663000
        ],
        [
         "dbfs:/databricks-datasets/nyctaxi/tripdata/yellow/yellow_tripdata_2012-08.csv.gz",
         "yellow_tripdata_2012-08.csv.gz",
         511483352,
         1590525666000
        ],
        [
         "dbfs:/databricks-datasets/nyctaxi/tripdata/yellow/yellow_tripdata_2012-09.csv.gz",
         "yellow_tripdata_2012-09.csv.gz",
         459381547,
         1590525669000
        ],
        [
         "dbfs:/databricks-datasets/nyctaxi/tripdata/yellow/yellow_tripdata_2012-10.csv.gz",
         "yellow_tripdata_2012-10.csv.gz",
         468143217,
         1590525708000
        ],
        [
         "dbfs:/databricks-datasets/nyctaxi/tripdata/yellow/yellow_tripdata_2012-11.csv.gz",
         "yellow_tripdata_2012-11.csv.gz",
         443832708,
         1590525713000
        ],
        [
         "dbfs:/databricks-datasets/nyctaxi/tripdata/yellow/yellow_tripdata_2012-12.csv.gz",
         "yellow_tripdata_2012-12.csv.gz",
         493139441,
         1590525717000
        ],
        [
         "dbfs:/databricks-datasets/nyctaxi/tripdata/yellow/yellow_tripdata_2013-01.csv.gz",
         "yellow_tripdata_2013-01.csv.gz",
         478262343,
         1590525718000
        ],
        [
         "dbfs:/databricks-datasets/nyctaxi/tripdata/yellow/yellow_tripdata_2013-02.csv.gz",
         "yellow_tripdata_2013-02.csv.gz",
         451683985,
         1590525721000
        ],
        [
         "dbfs:/databricks-datasets/nyctaxi/tripdata/yellow/yellow_tripdata_2013-03.csv.gz",
         "yellow_tripdata_2013-03.csv.gz",
         516448368,
         1590525760000
        ],
        [
         "dbfs:/databricks-datasets/nyctaxi/tripdata/yellow/yellow_tripdata_2013-04.csv.gz",
         "yellow_tripdata_2013-04.csv.gz",
         500106589,
         1590525761000
        ],
        [
         "dbfs:/databricks-datasets/nyctaxi/tripdata/yellow/yellow_tripdata_2013-05.csv.gz",
         "yellow_tripdata_2013-05.csv.gz",
         493978775,
         1590525770000
        ],
        [
         "dbfs:/databricks-datasets/nyctaxi/tripdata/yellow/yellow_tripdata_2013-06.csv.gz",
         "yellow_tripdata_2013-06.csv.gz",
         472703135,
         1590525770000
        ],
        [
         "dbfs:/databricks-datasets/nyctaxi/tripdata/yellow/yellow_tripdata_2013-07.csv.gz",
         "yellow_tripdata_2013-07.csv.gz",
         450013796,
         1590525770000
        ],
        [
         "dbfs:/databricks-datasets/nyctaxi/tripdata/yellow/yellow_tripdata_2013-08.csv.gz",
         "yellow_tripdata_2013-08.csv.gz",
         421885789,
         1590525812000
        ],
        [
         "dbfs:/databricks-datasets/nyctaxi/tripdata/yellow/yellow_tripdata_2013-09.csv.gz",
         "yellow_tripdata_2013-09.csv.gz",
         481546619,
         1590525813000
        ],
        [
         "dbfs:/databricks-datasets/nyctaxi/tripdata/yellow/yellow_tripdata_2013-10.csv.gz",
         "yellow_tripdata_2013-10.csv.gz",
         500785608,
         1590525818000
        ],
        [
         "dbfs:/databricks-datasets/nyctaxi/tripdata/yellow/yellow_tripdata_2013-11.csv.gz",
         "yellow_tripdata_2013-11.csv.gz",
         481124327,
         1590525820000
        ],
        [
         "dbfs:/databricks-datasets/nyctaxi/tripdata/yellow/yellow_tripdata_2013-12.csv.gz",
         "yellow_tripdata_2013-12.csv.gz",
         459830158,
         1590525821000
        ],
        [
         "dbfs:/databricks-datasets/nyctaxi/tripdata/yellow/yellow_tripdata_2014-01.csv.gz",
         "yellow_tripdata_2014-01.csv.gz",
         445284946,
         1590525861000
        ],
        [
         "dbfs:/databricks-datasets/nyctaxi/tripdata/yellow/yellow_tripdata_2014-02.csv.gz",
         "yellow_tripdata_2014-02.csv.gz",
         427962052,
         1590525866000
        ],
        [
         "dbfs:/databricks-datasets/nyctaxi/tripdata/yellow/yellow_tripdata_2014-03.csv.gz",
         "yellow_tripdata_2014-03.csv.gz",
         512115757,
         1590525873000
        ],
        [
         "dbfs:/databricks-datasets/nyctaxi/tripdata/yellow/yellow_tripdata_2014-04.csv.gz",
         "yellow_tripdata_2014-04.csv.gz",
         475749569,
         1590525873000
        ],
        [
         "dbfs:/databricks-datasets/nyctaxi/tripdata/yellow/yellow_tripdata_2014-05.csv.gz",
         "yellow_tripdata_2014-05.csv.gz",
         485741383,
         1590525874000
        ],
        [
         "dbfs:/databricks-datasets/nyctaxi/tripdata/yellow/yellow_tripdata_2014-06.csv.gz",
         "yellow_tripdata_2014-06.csv.gz",
         456035000,
         1590525912000
        ],
        [
         "dbfs:/databricks-datasets/nyctaxi/tripdata/yellow/yellow_tripdata_2014-07.csv.gz",
         "yellow_tripdata_2014-07.csv.gz",
         425991155,
         1590525917000
        ],
        [
         "dbfs:/databricks-datasets/nyctaxi/tripdata/yellow/yellow_tripdata_2014-08.csv.gz",
         "yellow_tripdata_2014-08.csv.gz",
         419345164,
         1590525929000
        ],
        [
         "dbfs:/databricks-datasets/nyctaxi/tripdata/yellow/yellow_tripdata_2014-09.csv.gz",
         "yellow_tripdata_2014-09.csv.gz",
         443182114,
         1590525931000
        ],
        [
         "dbfs:/databricks-datasets/nyctaxi/tripdata/yellow/yellow_tripdata_2014-10.csv.gz",
         "yellow_tripdata_2014-10.csv.gz",
         466041865,
         1590525933000
        ],
        [
         "dbfs:/databricks-datasets/nyctaxi/tripdata/yellow/yellow_tripdata_2014-11.csv.gz",
         "yellow_tripdata_2014-11.csv.gz",
         437336437,
         1590525968000
        ],
        [
         "dbfs:/databricks-datasets/nyctaxi/tripdata/yellow/yellow_tripdata_2014-12.csv.gz",
         "yellow_tripdata_2014-12.csv.gz",
         431611778,
         1590525969000
        ],
        [
         "dbfs:/databricks-datasets/nyctaxi/tripdata/yellow/yellow_tripdata_2015-01.csv.gz",
         "yellow_tripdata_2015-01.csv.gz",
         510982711,
         1590525977000
        ],
        [
         "dbfs:/databricks-datasets/nyctaxi/tripdata/yellow/yellow_tripdata_2015-02.csv.gz",
         "yellow_tripdata_2015-02.csv.gz",
         498934977,
         1590525982000
        ],
        [
         "dbfs:/databricks-datasets/nyctaxi/tripdata/yellow/yellow_tripdata_2015-03.csv.gz",
         "yellow_tripdata_2015-03.csv.gz",
         536626429,
         1590525987000
        ],
        [
         "dbfs:/databricks-datasets/nyctaxi/tripdata/yellow/yellow_tripdata_2015-04.csv.gz",
         "yellow_tripdata_2015-04.csv.gz",
         526278868,
         1590526014000
        ],
        [
         "dbfs:/databricks-datasets/nyctaxi/tripdata/yellow/yellow_tripdata_2015-05.csv.gz",
         "yellow_tripdata_2015-05.csv.gz",
         528674128,
         1590526014000
        ],
        [
         "dbfs:/databricks-datasets/nyctaxi/tripdata/yellow/yellow_tripdata_2015-06.csv.gz",
         "yellow_tripdata_2015-06.csv.gz",
         484887977,
         1590526031000
        ],
        [
         "dbfs:/databricks-datasets/nyctaxi/tripdata/yellow/yellow_tripdata_2015-07.csv.gz",
         "yellow_tripdata_2015-07.csv.gz",
         448653527,
         1590526035000
        ],
        [
         "dbfs:/databricks-datasets/nyctaxi/tripdata/yellow/yellow_tripdata_2015-08.csv.gz",
         "yellow_tripdata_2015-08.csv.gz",
         432743918,
         1590526044000
        ],
        [
         "dbfs:/databricks-datasets/nyctaxi/tripdata/yellow/yellow_tripdata_2015-09.csv.gz",
         "yellow_tripdata_2015-09.csv.gz",
         436791892,
         1590526073000
        ],
        [
         "dbfs:/databricks-datasets/nyctaxi/tripdata/yellow/yellow_tripdata_2015-10.csv.gz",
         "yellow_tripdata_2015-10.csv.gz",
         478620813,
         1590526073000
        ],
        [
         "dbfs:/databricks-datasets/nyctaxi/tripdata/yellow/yellow_tripdata_2015-11.csv.gz",
         "yellow_tripdata_2015-11.csv.gz",
         439257795,
         1590526084000
        ],
        [
         "dbfs:/databricks-datasets/nyctaxi/tripdata/yellow/yellow_tripdata_2015-12.csv.gz",
         "yellow_tripdata_2015-12.csv.gz",
         445153178,
         1590526084000
        ],
        [
         "dbfs:/databricks-datasets/nyctaxi/tripdata/yellow/yellow_tripdata_2016-01.csv.gz",
         "yellow_tripdata_2016-01.csv.gz",
         421734912,
         1590526092000
        ],
        [
         "dbfs:/databricks-datasets/nyctaxi/tripdata/yellow/yellow_tripdata_2016-02.csv.gz",
         "yellow_tripdata_2016-02.csv.gz",
         439029046,
         1590526121000
        ],
        [
         "dbfs:/databricks-datasets/nyctaxi/tripdata/yellow/yellow_tripdata_2016-03.csv.gz",
         "yellow_tripdata_2016-03.csv.gz",
         472243929,
         1590526127000
        ],
        [
         "dbfs:/databricks-datasets/nyctaxi/tripdata/yellow/yellow_tripdata_2016-04.csv.gz",
         "yellow_tripdata_2016-04.csv.gz",
         463706594,
         1590526134000
        ],
        [
         "dbfs:/databricks-datasets/nyctaxi/tripdata/yellow/yellow_tripdata_2016-05.csv.gz",
         "yellow_tripdata_2016-05.csv.gz",
         463046642,
         1590526135000
        ],
        [
         "dbfs:/databricks-datasets/nyctaxi/tripdata/yellow/yellow_tripdata_2016-06.csv.gz",
         "yellow_tripdata_2016-06.csv.gz",
         435640067,
         1590526138000
        ],
        [
         "dbfs:/databricks-datasets/nyctaxi/tripdata/yellow/yellow_tripdata_2016-07.csv.gz",
         "yellow_tripdata_2016-07.csv.gz",
         155772486,
         1590526165000
        ],
        [
         "dbfs:/databricks-datasets/nyctaxi/tripdata/yellow/yellow_tripdata_2016-08.csv.gz",
         "yellow_tripdata_2016-08.csv.gz",
         149189301,
         1590526174000
        ],
        [
         "dbfs:/databricks-datasets/nyctaxi/tripdata/yellow/yellow_tripdata_2016-09.csv.gz",
         "yellow_tripdata_2016-09.csv.gz",
         154436403,
         1590526179000
        ],
        [
         "dbfs:/databricks-datasets/nyctaxi/tripdata/yellow/yellow_tripdata_2016-10.csv.gz",
         "yellow_tripdata_2016-10.csv.gz",
         164098675,
         1590526180000
        ],
        [
         "dbfs:/databricks-datasets/nyctaxi/tripdata/yellow/yellow_tripdata_2016-11.csv.gz",
         "yellow_tripdata_2016-11.csv.gz",
         152816358,
         1590526181000
        ],
        [
         "dbfs:/databricks-datasets/nyctaxi/tripdata/yellow/yellow_tripdata_2016-12.csv.gz",
         "yellow_tripdata_2016-12.csv.gz",
         157413907,
         1590526182000
        ],
        [
         "dbfs:/databricks-datasets/nyctaxi/tripdata/yellow/yellow_tripdata_2017-01.csv.gz",
         "yellow_tripdata_2017-01.csv.gz",
         144492027,
         1590526188000
        ],
        [
         "dbfs:/databricks-datasets/nyctaxi/tripdata/yellow/yellow_tripdata_2017-02.csv.gz",
         "yellow_tripdata_2017-02.csv.gz",
         136659107,
         1590526196000
        ],
        [
         "dbfs:/databricks-datasets/nyctaxi/tripdata/yellow/yellow_tripdata_2017-03.csv.gz",
         "yellow_tripdata_2017-03.csv.gz",
         154604320,
         1590526198000
        ],
        [
         "dbfs:/databricks-datasets/nyctaxi/tripdata/yellow/yellow_tripdata_2017-04.csv.gz",
         "yellow_tripdata_2017-04.csv.gz",
         150995632,
         1590526198000
        ],
        [
         "dbfs:/databricks-datasets/nyctaxi/tripdata/yellow/yellow_tripdata_2017-05.csv.gz",
         "yellow_tripdata_2017-05.csv.gz",
         152513179,
         1590526198000
        ],
        [
         "dbfs:/databricks-datasets/nyctaxi/tripdata/yellow/yellow_tripdata_2017-06.csv.gz",
         "yellow_tripdata_2017-06.csv.gz",
         144967379,
         1590526205000
        ],
        [
         "dbfs:/databricks-datasets/nyctaxi/tripdata/yellow/yellow_tripdata_2017-07.csv.gz",
         "yellow_tripdata_2017-07.csv.gz",
         141141934,
         1590526212000
        ],
        [
         "dbfs:/databricks-datasets/nyctaxi/tripdata/yellow/yellow_tripdata_2017-08.csv.gz",
         "yellow_tripdata_2017-08.csv.gz",
         138415411,
         1590526215000
        ],
        [
         "dbfs:/databricks-datasets/nyctaxi/tripdata/yellow/yellow_tripdata_2017-09.csv.gz",
         "yellow_tripdata_2017-09.csv.gz",
         147622574,
         1590526215000
        ],
        [
         "dbfs:/databricks-datasets/nyctaxi/tripdata/yellow/yellow_tripdata_2017-10.csv.gz",
         "yellow_tripdata_2017-10.csv.gz",
         160943166,
         1590526216000
        ],
        [
         "dbfs:/databricks-datasets/nyctaxi/tripdata/yellow/yellow_tripdata_2017-11.csv.gz",
         "yellow_tripdata_2017-11.csv.gz",
         152770049,
         1590526221000
        ],
        [
         "dbfs:/databricks-datasets/nyctaxi/tripdata/yellow/yellow_tripdata_2017-12.csv.gz",
         "yellow_tripdata_2017-12.csv.gz",
         156184671,
         1590526226000
        ],
        [
         "dbfs:/databricks-datasets/nyctaxi/tripdata/yellow/yellow_tripdata_2018-01.csv.gz",
         "yellow_tripdata_2018-01.csv.gz",
         143211519,
         1590526229000
        ],
        [
         "dbfs:/databricks-datasets/nyctaxi/tripdata/yellow/yellow_tripdata_2018-02.csv.gz",
         "yellow_tripdata_2018-02.csv.gz",
         139062994,
         1590526230000
        ],
        [
         "dbfs:/databricks-datasets/nyctaxi/tripdata/yellow/yellow_tripdata_2018-03.csv.gz",
         "yellow_tripdata_2018-03.csv.gz",
         155108281,
         1590526232000
        ],
        [
         "dbfs:/databricks-datasets/nyctaxi/tripdata/yellow/yellow_tripdata_2018-04.csv.gz",
         "yellow_tripdata_2018-04.csv.gz",
         153504004,
         1590526238000
        ],
        [
         "dbfs:/databricks-datasets/nyctaxi/tripdata/yellow/yellow_tripdata_2018-05.csv.gz",
         "yellow_tripdata_2018-05.csv.gz",
         152775398,
         1590526244000
        ],
        [
         "dbfs:/databricks-datasets/nyctaxi/tripdata/yellow/yellow_tripdata_2018-06.csv.gz",
         "yellow_tripdata_2018-06.csv.gz",
         144377468,
         1590526246000
        ],
        [
         "dbfs:/databricks-datasets/nyctaxi/tripdata/yellow/yellow_tripdata_2018-07.csv.gz",
         "yellow_tripdata_2018-07.csv.gz",
         129810520,
         1590526246000
        ],
        [
         "dbfs:/databricks-datasets/nyctaxi/tripdata/yellow/yellow_tripdata_2018-08.csv.gz",
         "yellow_tripdata_2018-08.csv.gz",
         129874126,
         1590526251000
        ],
        [
         "dbfs:/databricks-datasets/nyctaxi/tripdata/yellow/yellow_tripdata_2018-09.csv.gz",
         "yellow_tripdata_2018-09.csv.gz",
         133683366,
         1590526256000
        ],
        [
         "dbfs:/databricks-datasets/nyctaxi/tripdata/yellow/yellow_tripdata_2018-10.csv.gz",
         "yellow_tripdata_2018-10.csv.gz",
         146678859,
         1590526263000
        ],
        [
         "dbfs:/databricks-datasets/nyctaxi/tripdata/yellow/yellow_tripdata_2018-11.csv.gz",
         "yellow_tripdata_2018-11.csv.gz",
         135364951,
         1590526264000
        ],
        [
         "dbfs:/databricks-datasets/nyctaxi/tripdata/yellow/yellow_tripdata_2018-12.csv.gz",
         "yellow_tripdata_2018-12.csv.gz",
         135612832,
         1590526264000
        ],
        [
         "dbfs:/databricks-datasets/nyctaxi/tripdata/yellow/yellow_tripdata_2019-01.csv.gz",
         "yellow_tripdata_2019-01.csv.gz",
         126896536,
         1590526267000
        ],
        [
         "dbfs:/databricks-datasets/nyctaxi/tripdata/yellow/yellow_tripdata_2019-02.csv.gz",
         "yellow_tripdata_2019-02.csv.gz",
         121172953,
         1590526272000
        ],
        [
         "dbfs:/databricks-datasets/nyctaxi/tripdata/yellow/yellow_tripdata_2019-03.csv.gz",
         "yellow_tripdata_2019-03.csv.gz",
         135816827,
         1590526279000
        ],
        [
         "dbfs:/databricks-datasets/nyctaxi/tripdata/yellow/yellow_tripdata_2019-04.csv.gz",
         "yellow_tripdata_2019-04.csv.gz",
         128774049,
         1590526279000
        ],
        [
         "dbfs:/databricks-datasets/nyctaxi/tripdata/yellow/yellow_tripdata_2019-05.csv.gz",
         "yellow_tripdata_2019-05.csv.gz",
         131394988,
         1590526279000
        ],
        [
         "dbfs:/databricks-datasets/nyctaxi/tripdata/yellow/yellow_tripdata_2019-06.csv.gz",
         "yellow_tripdata_2019-06.csv.gz",
         120767491,
         1590526282000
        ],
        [
         "dbfs:/databricks-datasets/nyctaxi/tripdata/yellow/yellow_tripdata_2019-07.csv.gz",
         "yellow_tripdata_2019-07.csv.gz",
         109579693,
         1590526286000
        ],
        [
         "dbfs:/databricks-datasets/nyctaxi/tripdata/yellow/yellow_tripdata_2019-08.csv.gz",
         "yellow_tripdata_2019-08.csv.gz",
         105492899,
         1590526293000
        ],
        [
         "dbfs:/databricks-datasets/nyctaxi/tripdata/yellow/yellow_tripdata_2019-09.csv.gz",
         "yellow_tripdata_2019-09.csv.gz",
         114297190,
         1590526293000
        ],
        [
         "dbfs:/databricks-datasets/nyctaxi/tripdata/yellow/yellow_tripdata_2019-10.csv.gz",
         "yellow_tripdata_2019-10.csv.gz",
         125220156,
         1590526293000
        ],
        [
         "dbfs:/databricks-datasets/nyctaxi/tripdata/yellow/yellow_tripdata_2019-11.csv.gz",
         "yellow_tripdata_2019-11.csv.gz",
         119085913,
         1590526294000
        ],
        [
         "dbfs:/databricks-datasets/nyctaxi/tripdata/yellow/yellow_tripdata_2019-12.csv.gz",
         "yellow_tripdata_2019-12.csv.gz",
         119637211,
         1590526297000
        ]
       ],
       "datasetInfos": [],
       "dbfsResultPath": null,
       "isJsonSchema": true,
       "metadata": {},
       "overflow": false,
       "plotOptions": {
        "customPlotOptions": {},
        "displayType": "table",
        "pivotAggregation": null,
        "pivotColumns": null,
        "xColumns": null,
        "yColumns": null
       },
       "removedWidgets": [],
       "schema": [
        {
         "metadata": "{}",
         "name": "path",
         "type": "\"string\""
        },
        {
         "metadata": "{}",
         "name": "name",
         "type": "\"string\""
        },
        {
         "metadata": "{}",
         "name": "size",
         "type": "\"long\""
        },
        {
         "metadata": "{}",
         "name": "modificationTime",
         "type": "\"long\""
        }
       ],
       "type": "table"
      }
     },
     "output_type": "display_data"
    }
   ],
   "source": [
    "display(dbutils.fs.ls('/databricks-datasets/nyctaxi/tripdata/yellow/'))"
   ]
  },
  {
   "cell_type": "code",
   "execution_count": 0,
   "metadata": {
    "application/vnd.databricks.v1+cell": {
     "cellMetadata": {
      "byteLimit": 2048000,
      "rowLimit": 10000
     },
     "inputWidgets": {},
     "nuid": "01c7181c-cab9-474d-bff8-d129ad0e7184",
     "showTitle": false,
     "title": ""
    }
   },
   "outputs": [
    {
     "output_type": "execute_result",
     "data": {
      "text/plain": [
       "Row(VendorID=1, tpep_pickup_datetime=datetime.datetime(2019, 12, 1, 0, 26, 58), tpep_dropoff_datetime=datetime.datetime(2019, 12, 1, 0, 41, 45), passenger_count=1, trip_distance=4.2, RatecodeID=1, store_and_fwd_flag='N', PULocationID=142, DOLocationID=116, payment_type=2, fare_amount=14.5, extra=3.0, mta_tax=0.5, tip_amount=0.0, tolls_amount=0.0, improvement_surcharge=0.3, total_amount=18.3, congestion_surcharge=2.5)"
      ]
     },
     "execution_count": 7,
     "metadata": {},
     "output_type": "execute_result"
    }
   ],
   "source": [
    "# # Reading a CSV file into a Spark DataFrame\n",
    "file_path = 'dbfs:/databricks-datasets/nyctaxi/tripdata/yellow/yellow_tripdata_2019-12.csv.gz'\n",
    "\n",
    "# Won't look good. Didn't pass in a schema\n",
    "# df = spark.read.csv(file_path)\n",
    "# df.head()\n",
    "\n",
    "df = spark.read.options(header=True,inferSchema=True).csv(file_path)\n",
    "# Same\n",
    "# df = spark.read.csv(file_path, header=True, inferSchema=True) \n",
    "\n",
    "df.head() # Very messy"
   ]
  },
  {
   "cell_type": "code",
   "execution_count": 0,
   "metadata": {
    "application/vnd.databricks.v1+cell": {
     "cellMetadata": {
      "byteLimit": 2048000,
      "rowLimit": 10000
     },
     "inputWidgets": {},
     "nuid": "04792076-cdb3-4e4e-bd2b-06c4e0f9935c",
     "showTitle": false,
     "title": ""
    }
   },
   "outputs": [
    {
     "output_type": "stream",
     "name": "stdout",
     "output_type": "stream",
     "text": [
      "+--------+--------------------+---------------------+---------------+-------------+----------+------------------+------------+------------+------------+-----------+-----+-------+----------+------------+---------------------+------------+--------------------+\n|VendorID|tpep_pickup_datetime|tpep_dropoff_datetime|passenger_count|trip_distance|RatecodeID|store_and_fwd_flag|PULocationID|DOLocationID|payment_type|fare_amount|extra|mta_tax|tip_amount|tolls_amount|improvement_surcharge|total_amount|congestion_surcharge|\n+--------+--------------------+---------------------+---------------+-------------+----------+------------------+------------+------------+------------+-----------+-----+-------+----------+------------+---------------------+------------+--------------------+\n|       1| 2019-12-01 00:26:58|  2019-12-01 00:41:45|              1|          4.2|         1|                 N|         142|         116|           2|       14.5|  3.0|    0.5|       0.0|         0.0|                  0.3|        18.3|                 2.5|\n|       1| 2019-12-01 00:12:08|  2019-12-01 00:12:14|              1|          0.0|         1|                 N|         145|         145|           2|        2.5|  0.5|    0.5|       0.0|         0.0|                  0.3|         3.8|                 0.0|\n|       1| 2019-12-01 00:25:53|  2019-12-01 00:26:04|              1|          0.0|         1|                 N|         145|         145|           2|        2.5|  0.5|    0.5|       0.0|         0.0|                  0.3|         3.8|                 0.0|\n|       1| 2019-12-01 00:12:03|  2019-12-01 00:33:19|              2|          9.4|         1|                 N|         138|          25|           1|       28.5|  0.5|    0.5|      10.0|         0.0|                  0.3|        39.8|                 0.0|\n|       1| 2019-12-01 00:05:27|  2019-12-01 00:16:32|              2|          1.6|         1|                 N|         161|         237|           2|        9.0|  3.0|    0.5|       0.0|         0.0|                  0.3|        12.8|                 2.5|\n|       1| 2019-12-01 00:58:51|  2019-12-01 01:08:37|              2|          1.0|         1|                 N|         161|         230|           2|        6.5|  3.0|    0.5|       0.0|         0.0|                  0.3|        10.3|                 2.5|\n|       1| 2019-12-01 00:14:19|  2019-12-01 00:27:06|              0|          1.7|         1|                 Y|         164|         163|           2|       10.0|  3.0|    0.5|       0.0|         0.0|                  0.3|        13.8|                 2.5|\n|       1| 2019-12-01 00:29:35|  2019-12-01 00:32:29|              0|          0.5|         1|                 N|          79|         224|           1|        4.0|  3.0|    0.5|      1.55|         0.0|                  0.3|        9.35|                 2.5|\n|       1| 2019-12-01 00:42:19|  2019-12-01 00:50:34|              0|          1.4|         1|                 N|          79|         107|           2|        7.5|  3.0|    0.5|       0.0|         0.0|                  0.3|        11.3|                 2.5|\n|       1| 2019-12-01 00:19:48|  2019-12-01 00:24:18|              1|          0.9|         1|                 N|         148|           4|           1|        5.5|  3.0|    0.5|      1.85|         0.0|                  0.3|       11.15|                 2.5|\n+--------+--------------------+---------------------+---------------+-------------+----------+------------------+------------+------------+------------+-----------+-----+-------+----------+------------+---------------------+------------+--------------------+\nonly showing top 10 rows\n\n"
     ]
    }
   ],
   "source": [
    "df.show(10) # Cleaner\n",
    "\n",
    "# show() defaults to 20"
   ]
  },
  {
   "cell_type": "code",
   "execution_count": 0,
   "metadata": {
    "application/vnd.databricks.v1+cell": {
     "cellMetadata": {
      "byteLimit": 2048000,
      "rowLimit": 10000
     },
     "inputWidgets": {},
     "nuid": "d913f3b1-d948-4860-b29d-a4bf57c18d8a",
     "showTitle": false,
     "title": ""
    }
   },
   "outputs": [
    {
     "output_type": "stream",
     "name": "stdout",
     "output_type": "stream",
     "text": [
      "+--------+--------------------+---------------------+---------------+-------------+----------+------------------+------------+------------+------------+-----------+-----+-------+----------+------------+---------------------+------------+--------------------+\n|VendorID|tpep_pickup_datetime|tpep_dropoff_datetime|passenger_count|trip_distance|RatecodeID|store_and_fwd_flag|PULocationID|DOLocationID|payment_type|fare_amount|extra|mta_tax|tip_amount|tolls_amount|improvement_surcharge|total_amount|congestion_surcharge|\n+--------+--------------------+---------------------+---------------+-------------+----------+------------------+------------+------------+------------+-----------+-----+-------+----------+------------+---------------------+------------+--------------------+\n|       1| 2019-12-01 00:12:03|  2019-12-01 00:33:19|              2|          9.4|         1|                 N|         138|          25|           1|       28.5|  0.5|    0.5|      10.0|         0.0|                  0.3|        39.8|                 0.0|\n|       1| 2019-12-01 00:05:27|  2019-12-01 00:16:32|              2|          1.6|         1|                 N|         161|         237|           2|        9.0|  3.0|    0.5|       0.0|         0.0|                  0.3|        12.8|                 2.5|\n|       1| 2019-12-01 00:58:51|  2019-12-01 01:08:37|              2|          1.0|         1|                 N|         161|         230|           2|        6.5|  3.0|    0.5|       0.0|         0.0|                  0.3|        10.3|                 2.5|\n|       1| 2019-12-01 00:43:09|  2019-12-01 01:11:07|              2|         11.3|         1|                 N|         138|          85|           1|       33.5|  0.5|    0.5|      6.95|         0.0|                  0.3|       41.75|                 0.0|\n|       1| 2019-12-01 00:01:45|  2019-12-01 00:13:26|              2|          4.7|         1|                 N|         233|         209|           1|       15.5|  3.0|    0.5|       5.0|         0.0|                  0.3|        24.3|                 2.5|\n|       2| 2019-12-01 00:25:29|  2019-12-01 00:45:47|              2|         4.68|         1|                 N|         142|         148|           1|       17.0|  0.5|    0.5|      4.16|         0.0|                  0.3|       24.96|                 2.5|\n|       2| 2019-12-01 00:17:00|  2019-12-01 00:24:41|              2|         2.65|         1|                 N|         233|         262|           2|        9.5|  0.5|    0.5|       0.0|         0.0|                  0.3|        13.3|                 2.5|\n|       2| 2019-12-01 00:37:58|  2019-12-01 00:44:14|              2|         1.55|         1|                 N|         229|         141|           1|        7.0|  0.5|    0.5|      2.16|         0.0|                  0.3|       12.96|                 2.5|\n|       2| 2019-12-01 00:57:31|  2019-12-01 01:09:21|              2|          2.7|         1|                 N|          79|          13|           1|       11.5|  0.5|    0.5|      3.06|         0.0|                  0.3|       18.36|                 2.5|\n|       2| 2019-12-01 00:19:42|  2019-12-01 00:34:55|              2|         2.24|         1|                 N|         230|          68|           1|       11.0|  0.5|    0.5|       1.5|         0.0|                  0.3|        16.3|                 2.5|\n+--------+--------------------+---------------------+---------------+-------------+----------+------------------+------------+------------+------------+-----------+-----+-------+----------+------------+---------------------+------------+--------------------+\nonly showing top 10 rows\n\n+--------+--------------------+---------------------+---------------+-------------+----------+------------------+------------+------------+------------+-----------+-----+-------+----------+------------+---------------------+------------+--------------------+\n|VendorID|tpep_pickup_datetime|tpep_dropoff_datetime|passenger_count|trip_distance|RatecodeID|store_and_fwd_flag|PULocationID|DOLocationID|payment_type|fare_amount|extra|mta_tax|tip_amount|tolls_amount|improvement_surcharge|total_amount|congestion_surcharge|\n+--------+--------------------+---------------------+---------------+-------------+----------+------------------+------------+------------+------------+-----------+-----+-------+----------+------------+---------------------+------------+--------------------+\n|       1| 2019-12-01 00:12:03|  2019-12-01 00:33:19|              2|          9.4|         1|                 N|         138|          25|           1|       28.5|  0.5|    0.5|      10.0|         0.0|                  0.3|        39.8|                 0.0|\n|       1| 2019-12-01 00:05:27|  2019-12-01 00:16:32|              2|          1.6|         1|                 N|         161|         237|           2|        9.0|  3.0|    0.5|       0.0|         0.0|                  0.3|        12.8|                 2.5|\n|       1| 2019-12-01 00:58:51|  2019-12-01 01:08:37|              2|          1.0|         1|                 N|         161|         230|           2|        6.5|  3.0|    0.5|       0.0|         0.0|                  0.3|        10.3|                 2.5|\n|       1| 2019-12-01 00:43:09|  2019-12-01 01:11:07|              2|         11.3|         1|                 N|         138|          85|           1|       33.5|  0.5|    0.5|      6.95|         0.0|                  0.3|       41.75|                 0.0|\n|       1| 2019-12-01 00:01:45|  2019-12-01 00:13:26|              2|          4.7|         1|                 N|         233|         209|           1|       15.5|  3.0|    0.5|       5.0|         0.0|                  0.3|        24.3|                 2.5|\n|       2| 2019-12-01 00:25:29|  2019-12-01 00:45:47|              2|         4.68|         1|                 N|         142|         148|           1|       17.0|  0.5|    0.5|      4.16|         0.0|                  0.3|       24.96|                 2.5|\n|       2| 2019-12-01 00:17:00|  2019-12-01 00:24:41|              2|         2.65|         1|                 N|         233|         262|           2|        9.5|  0.5|    0.5|       0.0|         0.0|                  0.3|        13.3|                 2.5|\n|       2| 2019-12-01 00:37:58|  2019-12-01 00:44:14|              2|         1.55|         1|                 N|         229|         141|           1|        7.0|  0.5|    0.5|      2.16|         0.0|                  0.3|       12.96|                 2.5|\n|       2| 2019-12-01 00:57:31|  2019-12-01 01:09:21|              2|          2.7|         1|                 N|          79|          13|           1|       11.5|  0.5|    0.5|      3.06|         0.0|                  0.3|       18.36|                 2.5|\n|       2| 2019-12-01 00:19:42|  2019-12-01 00:34:55|              2|         2.24|         1|                 N|         230|          68|           1|       11.0|  0.5|    0.5|       1.5|         0.0|                  0.3|        16.3|                 2.5|\n+--------+--------------------+---------------------+---------------+-------------+----------+------------------+------------+------------+------------+-----------+-----+-------+----------+------------+---------------------+------------+--------------------+\nonly showing top 10 rows\n\n"
     ]
    }
   ],
   "source": [
    "# Two ways to filter our data\n",
    "df.where('passenger_count = 2').show(10) # Can do either SQL or Python style conditionals\n",
    "\n",
    "df.filter('passenger_count = 2').show(10)\n",
    "\n",
    "# where and filter is the same"
   ]
  },
  {
   "cell_type": "code",
   "execution_count": 0,
   "metadata": {
    "application/vnd.databricks.v1+cell": {
     "cellMetadata": {
      "byteLimit": 2048000,
      "rowLimit": 10000
     },
     "inputWidgets": {},
     "nuid": "45ac1cfc-f258-48a2-9162-41a87c263388",
     "showTitle": false,
     "title": ""
    }
   },
   "outputs": [
    {
     "output_type": "execute_result",
     "data": {
      "text/plain": [
       "6896317"
      ]
     },
     "execution_count": 12,
     "metadata": {},
     "output_type": "execute_result"
    }
   ],
   "source": [
    "# Getting distinct rows\n",
    "df.distinct()\n",
    "\n",
    "# Counting distinct rows\n",
    "df.distinct().count()"
   ]
  },
  {
   "cell_type": "code",
   "execution_count": 0,
   "metadata": {
    "application/vnd.databricks.v1+cell": {
     "cellMetadata": {
      "byteLimit": 2048000,
      "rowLimit": 10000
     },
     "inputWidgets": {},
     "nuid": "f2e0e27a-01f4-489b-bc4e-7f7c3ce22bbc",
     "showTitle": false,
     "title": ""
    }
   },
   "outputs": [
    {
     "output_type": "execute_result",
     "data": {
      "text/plain": [
       "3"
      ]
     },
     "execution_count": 13,
     "metadata": {},
     "output_type": "execute_result"
    }
   ],
   "source": [
    "# Count how many distinct vendor ids we have\n",
    "# Use select like you would in SQL\n",
    "df.select('VendorID').distinct().count()"
   ]
  },
  {
   "cell_type": "code",
   "execution_count": 0,
   "metadata": {
    "application/vnd.databricks.v1+cell": {
     "cellMetadata": {
      "byteLimit": 2048000,
      "rowLimit": 10000
     },
     "inputWidgets": {},
     "nuid": "de13d22d-34f5-425d-92b4-bcb822aaabd6",
     "showTitle": false,
     "title": ""
    }
   },
   "outputs": [
    {
     "output_type": "stream",
     "name": "stdout",
     "output_type": "stream",
     "text": [
      "+--------+\n|VendorID|\n+--------+\n|       1|\n|       1|\n|       1|\n|       1|\n|       1|\n+--------+\nonly showing top 5 rows\n\n"
     ]
    }
   ],
   "source": [
    "# Get first 5 rows of vendor id\n",
    "df.select('VendorID').show(5)"
   ]
  },
  {
   "cell_type": "code",
   "execution_count": 0,
   "metadata": {
    "application/vnd.databricks.v1+cell": {
     "cellMetadata": {
      "byteLimit": 2048000,
      "rowLimit": 10000
     },
     "inputWidgets": {},
     "nuid": "04ead1cb-618c-4651-aa54-a002d937bd3c",
     "showTitle": false,
     "title": ""
    }
   },
   "outputs": [
    {
     "output_type": "stream",
     "name": "stdout",
     "output_type": "stream",
     "text": [
      "+--------+---------------+-----------+----------+\n|VendorID|passenger_count|fare_amount|tip_amount|\n+--------+---------------+-----------+----------+\n|       1|              1|       14.5|       0.0|\n|       1|              1|        2.5|       0.0|\n|       1|              1|        2.5|       0.0|\n|       1|              2|       28.5|      10.0|\n|       1|              2|        9.0|       0.0|\n|       1|              2|        6.5|       0.0|\n|       1|              0|       10.0|       0.0|\n|       1|              0|        4.0|      1.55|\n|       1|              0|        7.5|       0.0|\n|       1|              1|        5.5|      1.85|\n|       1|              3|       18.0|      4.35|\n|       2|              1|       12.0|       0.0|\n|       2|              1|        9.0|       0.0|\n|       2|              1|       38.5|       0.0|\n|       1|              0|       52.0|      5.53|\n|       1|              1|       15.0|       2.5|\n|       1|              1|       15.0|       0.0|\n|       2|              5|       52.0|     14.73|\n|       1|              1|       85.5|     17.85|\n|       1|              2|       33.5|      6.95|\n+--------+---------------+-----------+----------+\nonly showing top 20 rows\n\n"
     ]
    }
   ],
   "source": [
    "# Can pass in list of columns\n",
    "df.select(['VendorID', 'passenger_count', 'fare_amount', 'tip_amount']).show()"
   ]
  },
  {
   "cell_type": "code",
   "execution_count": 0,
   "metadata": {
    "application/vnd.databricks.v1+cell": {
     "cellMetadata": {
      "byteLimit": 2048000,
      "rowLimit": 10000
     },
     "inputWidgets": {},
     "nuid": "dadc6f16-aade-4b76-a0b6-360c2d3269f9",
     "showTitle": false,
     "title": ""
    }
   },
   "outputs": [
    {
     "output_type": "stream",
     "name": "stdout",
     "output_type": "stream",
     "text": [
      "+--------+---------------+-----------+----------+\n|VendorID|passenger_count|fare_amount|tip_amount|\n+--------+---------------+-----------+----------+\n|       1|              1|       14.5|       0.0|\n|       1|              1|        2.5|       0.0|\n|       1|              1|        2.5|       0.0|\n|       1|              2|       28.5|      10.0|\n|       1|              2|        9.0|       0.0|\n|       1|              2|        6.5|       0.0|\n|       1|              0|       10.0|       0.0|\n|       1|              0|        4.0|      1.55|\n|       1|              0|        7.5|       0.0|\n|       1|              1|        5.5|      1.85|\n|       1|              3|       18.0|      4.35|\n|       2|              1|       12.0|       0.0|\n|       2|              1|        9.0|       0.0|\n|       2|              1|       38.5|       0.0|\n|       1|              0|       52.0|      5.53|\n|       1|              1|       15.0|       2.5|\n|       1|              1|       15.0|       0.0|\n|       2|              5|       52.0|     14.73|\n|       1|              1|       85.5|     17.85|\n|       1|              2|       33.5|      6.95|\n+--------+---------------+-----------+----------+\nonly showing top 20 rows\n\n"
     ]
    }
   ],
   "source": [
    "# Can also do it like this\n",
    "df.select(df.VendorID, df.passenger_count, df.fare_amount, df.tip_amount).show()"
   ]
  },
  {
   "cell_type": "code",
   "execution_count": 0,
   "metadata": {
    "application/vnd.databricks.v1+cell": {
     "cellMetadata": {
      "byteLimit": 2048000,
      "rowLimit": 10000
     },
     "inputWidgets": {},
     "nuid": "2d808c0f-d26d-488e-8d9e-b5a127588460",
     "showTitle": false,
     "title": ""
    }
   },
   "outputs": [
    {
     "output_type": "stream",
     "name": "stdout",
     "output_type": "stream",
     "text": [
      "+--------+---------------+-----------+----------+\n|VendorID|passenger_count|fare_amount|tip_amount|\n+--------+---------------+-----------+----------+\n|       1|              1|  398468.38|       0.0|\n|       1|              1|     6012.5|       0.0|\n|       2|              1|     2442.5|       0.0|\n|       2|              1|     1961.5|       0.0|\n|       2|              2|     1472.0|       0.0|\n|       1|              0|      900.0|       0.0|\n|       1|              1|      844.0|       0.0|\n|       2|              1|      743.0|       0.0|\n|       2|              1|      709.5|       0.0|\n|       2|              4|      700.0|       0.0|\n|       1|              1|      700.0|      20.0|\n|       2|              2|      650.0|      20.0|\n|       2|              1|      609.5|       0.0|\n|       1|              1|      600.0|       0.0|\n|       2|              1|      600.0|       0.0|\n|       1|              2|      565.0|       0.0|\n|       2|              6|      544.5|       0.0|\n|       2|              1|      526.5|       0.0|\n|       2|              1|      517.5|       0.0|\n|       2|              1|      513.5|       0.0|\n+--------+---------------+-----------+----------+\nonly showing top 20 rows\n\n+--------+---------------+-----------+----------+\n|VendorID|passenger_count|fare_amount|tip_amount|\n+--------+---------------+-----------+----------+\n|       1|              1|  398468.38|       0.0|\n|       1|              1|     6012.5|       0.0|\n|       2|              1|     2442.5|       0.0|\n|       2|              1|     1961.5|       0.0|\n|       2|              2|     1472.0|       0.0|\n|       1|              0|      900.0|       0.0|\n|       1|              1|      844.0|       0.0|\n|       2|              1|      743.0|       0.0|\n|       2|              1|      709.5|       0.0|\n|       2|              4|      700.0|       0.0|\n|       1|              1|      700.0|      20.0|\n|       2|              2|      650.0|      20.0|\n|       2|              1|      609.5|       0.0|\n|       1|              1|      600.0|       0.0|\n|       2|              1|      600.0|       0.0|\n|       1|              2|      565.0|       0.0|\n|       2|              6|      544.5|       0.0|\n|       2|              1|      526.5|       0.0|\n|       2|              1|      517.5|       0.0|\n|       2|              1|      513.5|       0.0|\n+--------+---------------+-----------+----------+\nonly showing top 20 rows\n\n"
     ]
    }
   ],
   "source": [
    "# Sort defaults to ascending order\n",
    "# orderBy() and sort() is the same here\n",
    "df.select(df.VendorID, df.passenger_count, df.fare_amount, df.tip_amount).sort('fare_amount', ascending=False).show()\n",
    "\n",
    "# Another way\n",
    "df.select(df.VendorID, df.passenger_count, df.fare_amount, df.tip_amount).sort(df.fare_amount.desc()).show()"
   ]
  },
  {
   "cell_type": "code",
   "execution_count": 0,
   "metadata": {
    "application/vnd.databricks.v1+cell": {
     "cellMetadata": {
      "byteLimit": 2048000,
      "rowLimit": 10000
     },
     "inputWidgets": {},
     "nuid": "12ff3acb-a11d-4f38-944b-3094ecc07b27",
     "showTitle": false,
     "title": ""
    }
   },
   "outputs": [
    {
     "output_type": "stream",
     "name": "stdout",
     "output_type": "stream",
     "text": [
      "+--------+---------------+-----------+----------+\n|VendorID|passenger_count|fare_amount|tip_amount|\n+--------+---------------+-----------+----------+\n|       1|              1|  398468.38|       0.0|\n|       1|              1|     6012.5|       0.0|\n|       2|              1|     2442.5|       0.0|\n|       2|              1|     1961.5|       0.0|\n|       2|              2|     1472.0|       0.0|\n|       1|              0|      900.0|       0.0|\n|       1|              1|      844.0|       0.0|\n|       2|              1|      743.0|       0.0|\n|       2|              1|      709.5|       0.0|\n|       2|              4|      700.0|       0.0|\n|       1|              1|      700.0|      20.0|\n|       2|              2|      650.0|      20.0|\n|       2|              1|      609.5|       0.0|\n|       1|              1|      600.0|       0.0|\n|       2|              1|      600.0|       0.0|\n|       1|              2|      565.0|       0.0|\n|       2|              6|      544.5|       0.0|\n|       2|              1|      526.5|       0.0|\n|       2|              1|      517.5|       0.0|\n|       2|              1|      513.5|       0.0|\n+--------+---------------+-----------+----------+\nonly showing top 20 rows\n\n+--------+---------------+-----------+----------+\n|VendorID|passenger_count|fare_amount|tip_amount|\n+--------+---------------+-----------+----------+\n|       1|              1|  398468.38|       0.0|\n|       1|              1|     6012.5|       0.0|\n|       2|              1|     2442.5|       0.0|\n|       2|              1|     1961.5|       0.0|\n|       2|              2|     1472.0|       0.0|\n|       1|              0|      900.0|       0.0|\n|       1|              1|      844.0|       0.0|\n|       2|              1|      743.0|       0.0|\n|       2|              1|      709.5|       0.0|\n|       2|              4|      700.0|       0.0|\n|       1|              1|      700.0|      20.0|\n|       2|              2|      650.0|      20.0|\n|       2|              1|      609.5|       0.0|\n|       1|              1|      600.0|       0.0|\n|       2|              1|      600.0|       0.0|\n|       1|              2|      565.0|       0.0|\n|       2|              6|      544.5|       0.0|\n|       2|              1|      526.5|       0.0|\n|       2|              1|      517.5|       0.0|\n|       2|              1|      513.5|       0.0|\n+--------+---------------+-----------+----------+\nonly showing top 20 rows\n\n+--------+---------------+-----------+----------+\n|VendorID|passenger_count|fare_amount|tip_amount|\n+--------+---------------+-----------+----------+\n|       1|              1|  398468.38|       0.0|\n|       1|              1|     6012.5|       0.0|\n|       2|              1|     2442.5|       0.0|\n|       2|              1|     1961.5|       0.0|\n|       2|              2|     1472.0|       0.0|\n|       1|              0|      900.0|       0.0|\n|       1|              1|      844.0|       0.0|\n|       2|              1|      743.0|       0.0|\n|       2|              1|      709.5|       0.0|\n|       2|              4|      700.0|       0.0|\n|       1|              1|      700.0|      20.0|\n|       2|              2|      650.0|      20.0|\n|       2|              1|      609.5|       0.0|\n|       1|              1|      600.0|       0.0|\n|       2|              1|      600.0|       0.0|\n|       1|              2|      565.0|       0.0|\n|       2|              6|      544.5|       0.0|\n|       2|              1|      526.5|       0.0|\n|       2|              1|      517.5|       0.0|\n|       2|              1|      513.5|       0.0|\n+--------+---------------+-----------+----------+\nonly showing top 20 rows\n\n"
     ]
    }
   ],
   "source": [
    "from pyspark.sql.functions import col\n",
    "# When selecting columns themselves there are several ways to do it\n",
    "\n",
    "# 1. \n",
    "df.select(df.VendorID, df.passenger_count, df.fare_amount, df.tip_amount).sort(df.fare_amount.desc()).show()\n",
    "\n",
    "# 2.\n",
    "# Most used in test\n",
    "# col converts string fare_amount into column object -> df.fare_amount\n",
    "df.select(df.VendorID, df.passenger_count, df.fare_amount, df.tip_amount).sort(col('fare_amount').desc()).show()\n",
    "\n",
    "# 3.\n",
    "df.select(df.VendorID, df.passenger_count, df.fare_amount, df.tip_amount).sort(df['fare_amount'].desc()).show()\n",
    "\n",
    "# Will not work bc string 'fare_amount' does not have desc() method\n",
    "# df.select(df.VendorID, df.passenger_count, df.fare_amount, df.tip_amount).sort('fare_amount'.desc()).show()"
   ]
  },
  {
   "cell_type": "code",
   "execution_count": 0,
   "metadata": {
    "application/vnd.databricks.v1+cell": {
     "cellMetadata": {
      "byteLimit": 2048000,
      "rowLimit": 10000
     },
     "inputWidgets": {},
     "nuid": "e0061721-2a3c-49a8-b63a-903d00a6004c",
     "showTitle": false,
     "title": ""
    }
   },
   "outputs": [
    {
     "output_type": "stream",
     "name": "stdout",
     "output_type": "stream",
     "text": [
      "+--------+---------------+-----------+----------+\n|VendorID|passenger_count|fare_amount|tip_amount|\n+--------+---------------+-----------+----------+\n|       2|              1|       11.0|    404.44|\n|       2|              2|       39.5|    372.36|\n|       2|              1|       13.0|     323.0|\n|       2|              1|       52.0|     300.0|\n|       1|              1|       21.5|     300.0|\n|       2|              1|       20.0|     300.0|\n|       1|              1|        2.5|     297.0|\n|       1|              1|      137.0|    289.45|\n|       1|              1|       0.01|     250.0|\n|       1|              1|       52.0|     239.0|\n|       1|              1|        2.5|     229.7|\n|       1|              1|        0.0|     225.0|\n|       2|              1|       18.5|    222.22|\n|       2|              1|       25.0|     220.0|\n|       2|              1|        3.5|     200.8|\n|       2|              2|       13.5|    200.18|\n|       2|              1|        9.0|    200.08|\n|       2|              1|        2.5|     200.0|\n|       2|              1|       44.0|     200.0|\n|       1|              1|        5.5|     200.0|\n+--------+---------------+-----------+----------+\nonly showing top 20 rows\n\n"
     ]
    }
   ],
   "source": [
    "# Sorting by multiple options\n",
    "df.select(df.VendorID, df.passenger_count, df.fare_amount, df.tip_amount).orderBy(['tip_amount', 'passenger_count'], ascending=[False,True]).show()"
   ]
  },
  {
   "cell_type": "code",
   "execution_count": 0,
   "metadata": {
    "application/vnd.databricks.v1+cell": {
     "cellMetadata": {
      "byteLimit": 2048000,
      "rowLimit": 10000
     },
     "inputWidgets": {},
     "nuid": "ea81dfa7-b9fa-4ee5-838a-365b4a0b5b00",
     "showTitle": false,
     "title": ""
    }
   },
   "outputs": [],
   "source": [
    "# Getting rid of columns\n",
    "# drop() only accepts cols or strings no list this time\n",
    "# drop() only returns a df object. It won't drop the columns in place\n",
    "df = df.drop('extra','mta_tax','congestion_surcharge','store_and_fwd_flag')"
   ]
  },
  {
   "cell_type": "code",
   "execution_count": 0,
   "metadata": {
    "application/vnd.databricks.v1+cell": {
     "cellMetadata": {
      "byteLimit": 2048000,
      "rowLimit": 10000
     },
     "inputWidgets": {},
     "nuid": "796af141-8e1f-4e45-a762-fab91383d507",
     "showTitle": false,
     "title": ""
    }
   },
   "outputs": [
    {
     "output_type": "execute_result",
     "data": {
      "text/plain": [
       "DataFrame[VendorID: int, tpep_pickup_datetime: timestamp, tpep_dropoff_datetime: timestamp, passenger_count: int, trip_distance: double, RatecodeID: int, PULocationID: int, DOLocationID: int, payment_type: int, fare_amount: double, tip_amount: double, tolls_amount: double, improvement_surcharge: double, total_amount: double]"
      ]
     },
     "execution_count": 24,
     "metadata": {},
     "output_type": "execute_result"
    }
   ],
   "source": [
    "# Drop nulls\n",
    "# if there is any null in row we drop\n",
    "# only looks at our subset\n",
    "df.dropna(how='any',subset=['VendorID','fare_amount'])\n",
    "# df.na.drop() == df.dropna()\n",
    "# df.na.fill()"
   ]
  },
  {
   "cell_type": "code",
   "execution_count": 0,
   "metadata": {
    "application/vnd.databricks.v1+cell": {
     "cellMetadata": {
      "byteLimit": 2048000,
      "rowLimit": 10000
     },
     "inputWidgets": {},
     "nuid": "23993be1-b835-43a8-befa-e88f3b09373b",
     "showTitle": false,
     "title": ""
    }
   },
   "outputs": [
    {
     "output_type": "stream",
     "name": "stdout",
     "output_type": "stream",
     "text": [
      "+-------+------------------+------------------+\n|summary|   passenger_count|       fare_amount|\n+-------+------------------+------------------+\n|  count|           6845299|           6896317|\n|   mean|1.5508773247158378|13.590267515261928|\n| stddev|1.1743299363249946|152.26922211518485|\n|    min|                 0|           -1472.0|\n|    max|                 9|         398468.38|\n+-------+------------------+------------------+\n\n"
     ]
    }
   ],
   "source": [
    "# Returns df with our basic aggregation statistics\n",
    "df.select(['passenger_count','fare_amount']).describe().show()"
   ]
  },
  {
   "cell_type": "code",
   "execution_count": 0,
   "metadata": {
    "application/vnd.databricks.v1+cell": {
     "cellMetadata": {
      "byteLimit": 2048000,
      "rowLimit": 10000
     },
     "inputWidgets": {},
     "nuid": "499a183b-dc94-481c-ae71-3e3ac4fd1d91",
     "showTitle": false,
     "title": ""
    }
   },
   "outputs": [
    {
     "output_type": "stream",
     "name": "stdout",
     "output_type": "stream",
     "text": [
      "+-------+------------------+------------------+\n|summary|   passenger_count|       fare_amount|\n+-------+------------------+------------------+\n|  count|           6845299|           6896317|\n|   mean|1.5508773247158378|13.590267515261928|\n| stddev|1.1743299363249946|152.26922211518485|\n|    min|                 0|           -1472.0|\n|    25%|                 1|               6.5|\n|    50%|                 1|               9.5|\n|    75%|                 2|              15.5|\n|    max|                 9|         398468.38|\n+-------+------------------+------------------+\n\n"
     ]
    }
   ],
   "source": [
    "df.select(['passenger_count','fare_amount']).summary().show()"
   ]
  },
  {
   "cell_type": "code",
   "execution_count": 0,
   "metadata": {
    "application/vnd.databricks.v1+cell": {
     "cellMetadata": {
      "byteLimit": 2048000,
      "rowLimit": 10000
     },
     "inputWidgets": {},
     "nuid": "c0061f2f-4238-4fd5-b975-6b1d8aea3d15",
     "showTitle": false,
     "title": ""
    }
   },
   "outputs": [
    {
     "output_type": "stream",
     "name": "stdout",
     "output_type": "stream",
     "text": [
      "root\n |-- VendorID: integer (nullable = true)\n |-- tpep_pickup_datetime: timestamp (nullable = true)\n |-- tpep_dropoff_datetime: timestamp (nullable = true)\n |-- passenger_count: integer (nullable = true)\n |-- trip_distance: double (nullable = true)\n |-- RatecodeID: integer (nullable = true)\n |-- PULocationID: integer (nullable = true)\n |-- DOLocationID: integer (nullable = true)\n |-- payment_type: integer (nullable = true)\n |-- fare_amount: double (nullable = true)\n |-- tip_amount: double (nullable = true)\n |-- tolls_amount: double (nullable = true)\n |-- improvement_surcharge: double (nullable = true)\n |-- total_amount: double (nullable = true)\n\n"
     ]
    }
   ],
   "source": [
    "nyc_taxi_schema = df.printSchema()\n",
    "# Can use schema when reading in more csv files in here"
   ]
  },
  {
   "cell_type": "code",
   "execution_count": 0,
   "metadata": {
    "application/vnd.databricks.v1+cell": {
     "cellMetadata": {
      "byteLimit": 2048000,
      "rowLimit": 10000
     },
     "inputWidgets": {},
     "nuid": "c8dd4be1-0df0-425d-a089-fa18f223c651",
     "showTitle": false,
     "title": ""
    }
   },
   "outputs": [],
   "source": [
    "# Difference between\n",
    "\n",
    "# df.head(5)\n",
    "# Gives us top 5 rows in as a list of row object\n",
    "\n",
    "# df.show(5)\n",
    "# Give us first 5 rows in a formatted table structure\n",
    "\n",
    "# df.take(5)\n",
    "# Returns 5 fastest rows as list of row object\n",
    "# Usually the first 5 \n",
    "\n",
    "\n"
   ]
  },
  {
   "cell_type": "code",
   "execution_count": 0,
   "metadata": {
    "application/vnd.databricks.v1+cell": {
     "cellMetadata": {
      "byteLimit": 2048000,
      "rowLimit": 10000
     },
     "inputWidgets": {},
     "nuid": "5b0aa2f3-ea6e-4c3a-9da1-e819e8eff7eb",
     "showTitle": false,
     "title": ""
    }
   },
   "outputs": [
    {
     "output_type": "stream",
     "name": "stdout",
     "output_type": "stream",
     "text": [
      "+--------+--------------------+---------------------+---------------+-------------+----------+------------+------------+------------+-----------+----------+------------+---------------------+------------+\n|VendorID|tpep_pickup_datetime|tpep_dropoff_datetime|passenger_count|trip_distance|RatecodeID|PULocationID|DOLocationID|payment_type|fare_amount|tip_amount|tolls_amount|improvement_surcharge|total_amount|\n+--------+--------------------+---------------------+---------------+-------------+----------+------------+------------+------------+-----------+----------+------------+---------------------+------------+\n|       1| 2019-12-01 00:25:53|  2019-12-01 00:26:04|              1|          0.0|         1|         145|         145|           2|        2.5|       0.0|         0.0|                  0.3|         3.8|\n|       1| 2019-12-01 00:36:16|  2019-12-01 00:53:42|              3|          5.5|         1|          79|         226|           1|       18.0|      4.35|         0.0|                  0.3|       26.15|\n|       2| 2019-12-01 00:10:31|  2019-12-01 00:27:13|              1|         2.22|         1|          48|         229|           1|       12.0|       3.0|         0.0|                  0.3|        18.8|\n|       2| 2019-12-01 00:36:55|  2019-12-01 00:46:01|              1|         2.59|         1|         162|         145|           1|       10.0|      2.07|         0.0|                  0.3|       15.87|\n|       1| 2019-12-01 00:29:43|  2019-12-01 00:43:06|              1|          3.6|         1|         163|         224|           1|       12.5|      4.85|         0.0|                  0.3|       21.15|\n|       1| 2019-12-01 00:47:43|  2019-12-01 01:04:36|              1|          8.5|         1|         138|         141|           2|       25.5|       0.0|        6.12|                  0.3|       35.42|\n|       1| 2019-12-01 00:53:42|  2019-12-01 01:01:00|              1|          1.7|         1|         229|         137|           2|        7.5|       0.0|         0.0|                  0.3|        11.3|\n|       2| 2019-12-01 00:16:10|  2019-12-01 00:30:32|              2|         0.91|         1|         100|         170|           2|       10.0|       0.0|         0.0|                  0.3|        13.8|\n|       1| 2019-12-01 00:15:33|  2019-12-01 00:25:56|              1|          1.2|         1|          68|          48|           2|        8.0|       0.0|         0.0|                  0.3|        11.8|\n|       1| 2019-12-01 00:32:44|  2019-12-01 00:40:12|              2|          1.4|         1|         186|          48|           1|        7.5|      2.25|         0.0|                  0.3|       13.55|\n|       2| 2019-12-01 00:40:48|  2019-12-01 01:00:09|              1|         3.52|         1|         113|          48|           1|       15.0|       2.0|         0.0|                  0.3|        20.8|\n|       1| 2019-12-01 00:47:17|  2019-12-01 00:50:39|              0|          0.5|         1|          79|         148|           1|        4.5|       1.0|         0.0|                  0.3|         9.3|\n|       2| 2019-12-01 00:11:21|  2019-12-01 00:46:36|              1|        11.56|         1|         163|         135|           1|       37.5|       0.0|         0.0|                  0.3|        41.3|\n|       2| 2019-12-01 00:29:07|  2019-12-01 00:35:32|              2|         0.96|         1|         148|          79|           1|        6.0|      1.96|         0.0|                  0.3|       11.76|\n|       1| 2019-12-01 00:26:19|  2019-12-01 00:31:03|              1|          1.0|         1|         142|         239|           1|        5.5|       2.5|         0.0|                  0.3|        11.8|\n|       2| 2019-12-01 00:41:35|  2019-12-01 00:56:21|              1|         2.64|         1|         152|         238|           1|       12.5|       0.0|         0.0|                  0.3|        16.3|\n|       1| 2019-12-01 00:03:38|  2019-12-01 00:12:49|              0|          0.9|         1|          50|         163|           4|        7.5|       0.0|         0.0|                  0.3|        11.3|\n|       1| 2019-12-01 00:14:34|  2019-12-01 00:25:59|              0|          3.0|         1|         163|         226|           2|       12.0|       0.0|         0.0|                  0.3|        15.8|\n|       2| 2019-12-01 00:48:17|  2019-12-01 01:08:08|              2|         2.54|         1|          68|         148|           1|       14.5|      3.66|         0.0|                  0.3|       21.96|\n|       1| 2019-12-01 00:37:15|  2019-12-01 00:40:49|              1|          0.7|         1|         170|         170|           1|        4.5|      1.65|         0.0|                  0.3|        9.95|\n+--------+--------------------+---------------------+---------------+-------------+----------+------------+------------+------------+-----------+----------+------------+---------------------+------------+\nonly showing top 20 rows\n\n"
     ]
    }
   ],
   "source": [
    "# Returns a random sample containing 10% of our data\n",
    "df.sample(fraction=0.1).show()"
   ]
  },
  {
   "cell_type": "code",
   "execution_count": 0,
   "metadata": {
    "application/vnd.databricks.v1+cell": {
     "cellMetadata": {
      "byteLimit": 2048000,
      "rowLimit": 10000
     },
     "inputWidgets": {},
     "nuid": "9b7dcc6b-fa1e-4048-934e-2773d9f6d14d",
     "showTitle": false,
     "title": ""
    }
   },
   "outputs": [],
   "source": [
    "# Like in SQL\n",
    "# df.join()"
   ]
  }
 ],
 "metadata": {
  "application/vnd.databricks.v1+notebook": {
   "dashboards": [],
   "environmentMetadata": null,
   "language": "python",
   "notebookMetadata": {
    "pythonIndentUnit": 4
   },
   "notebookName": "Monday Notes",
   "widgets": {}
  }
 },
 "nbformat": 4,
 "nbformat_minor": 0
}
