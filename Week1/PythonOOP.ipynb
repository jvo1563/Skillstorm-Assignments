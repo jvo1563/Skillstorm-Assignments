{
 "cells": [
  {
   "cell_type": "markdown",
   "metadata": {},
   "source": [
    "#   Python OOP Assignment: Computer Modeling "
   ]
  },
  {
   "cell_type": "markdown",
   "metadata": {},
   "source": [
    "1. Basic Computer Components \n",
    "\n",
    "    - Create a base class named `ComputerComponent` which will act as a superclass for different computer parts. \n",
    "    - Define common attributes (like `manufacturer`, `model`, `serial_number`) in the `ComputerComponent` class. \n",
    "    - Implement a method in `ComputerComponent` to display details about the component. "
   ]
  },
  {
   "cell_type": "code",
   "execution_count": 66,
   "metadata": {},
   "outputs": [],
   "source": [
    "class ComputerComponent:\n",
    "    def __init__(self, manufacturer, model, serial_number) -> None:\n",
    "        self.manufacturer = manufacturer\n",
    "        self.model = model\n",
    "        self.serial_number = serial_number\n",
    "\n",
    "    def details(self):\n",
    "        return f\"Manufacturer: {self.manufacturer}\\nModel: {self.model}\\nSerial Number: {self.serial_number}\""
   ]
  },
  {
   "cell_type": "code",
   "execution_count": 67,
   "metadata": {},
   "outputs": [
    {
     "name": "stdout",
     "output_type": "stream",
     "text": [
      "Manufacturer: amd\n",
      "Model: ryzen 7700x\n",
      "Serial Number: 123\n"
     ]
    }
   ],
   "source": [
    "# Testing Computer Component\n",
    "cpu = ComputerComponent(\"amd\", \"ryzen 7700x\", \"123\")\n",
    "print(cpu.details())\n"
   ]
  },
  {
   "cell_type": "markdown",
   "metadata": {},
   "source": [
    "2. Specific Component Classes \n",
    "\n",
    "    - Create subclasses of `ComputerComponent` for different components: `CPU`, `Memory`, `Storage`. \n",
    "    - Each subclass should have specific attributes relevant to the component type. For instance, `CPU` might have `cores` and `clock_speed`, `Memory` could have `capacity`, and `Storage` might include `storage_type` and `size`. "
   ]
  },
  {
   "cell_type": "code",
   "execution_count": 68,
   "metadata": {},
   "outputs": [],
   "source": [
    "class CPU(ComputerComponent):\n",
    "    def __init__(self, manufacturer, model, serial_number, cores, clock_speed) -> None:\n",
    "        super().__init__(manufacturer, model, serial_number)\n",
    "        self.cores = cores\n",
    "        self.clock_speed = clock_speed\n",
    "\n",
    "    def details(self):\n",
    "        details = super().details()\n",
    "        details += f\"\\nCores: {self.cores}\\nClock Speed: {self.clock_speed}\"\n",
    "        return details\n",
    "\n",
    "\n",
    "class Memory(ComputerComponent):\n",
    "    def __init__(self, manufacturer, model, serial_number, capacity, speed) -> None:\n",
    "        super().__init__(manufacturer, model, serial_number)\n",
    "        self.capacity = capacity\n",
    "        self.speed = speed\n",
    "\n",
    "    def details(self):\n",
    "        details = super().details()\n",
    "        details += f\"\\nCapacity: {self.capacity}\\nSpeed: {self.speed}\"\n",
    "        return details\n",
    "\n",
    "\n",
    "class Storage(ComputerComponent):\n",
    "    def __init__(self, manufacturer, model, serial_number, size, type) -> None:\n",
    "        super().__init__(manufacturer, model, serial_number)\n",
    "        self.size = size\n",
    "        self.type = type\n",
    "\n",
    "    def details(self):\n",
    "        details = super().details()\n",
    "        details += f\"\\nSize: {self.size}\\nType: {self.type}\"\n",
    "        return details"
   ]
  },
  {
   "cell_type": "code",
   "execution_count": 69,
   "metadata": {},
   "outputs": [
    {
     "name": "stdout",
     "output_type": "stream",
     "text": [
      "Manufacturer: AMD\n",
      "Model: Ryzen 7700x\n",
      "Serial Number: 123-123\n",
      "Cores: 8\n",
      "Clock Speed: 4500\n",
      "\n",
      "Manufacturer: Corsair\n",
      "Model: Vengeance\n",
      "Serial Number: 4123\n",
      "Capacity: 32GB\n",
      "Speed: 6000\n",
      "\n",
      "Manufacturer: Samsung\n",
      "Model: 980 Pro\n",
      "Serial Number: 999\n",
      "Size: 2TB\n",
      "Type: M.2-2280\n"
     ]
    }
   ],
   "source": [
    "# Testing specific components\n",
    "\n",
    "cpu = CPU(\"AMD\", \"Ryzen 7700x\", \"123-123\", 8, 4500)\n",
    "print(cpu.details())\n",
    "\n",
    "memory = Memory(\"Corsair\", \"Vengeance\", \"4123\", \"32GB\", 6000)\n",
    "print(\"\\n\" + memory.details())\n",
    "\n",
    "storage = Storage(\"Samsung\", \"980 Pro\", \"999\", \"2TB\", \"M.2-2280\")\n",
    "print(\"\\n\" + storage.details())"
   ]
  },
  {
   "cell_type": "markdown",
   "metadata": {},
   "source": [
    "3. Computer Class \n",
    "\n",
    "    - Create a `Computer` class that uses these components. \n",
    "    - The `Computer` class should have attributes to hold instances of `CPU`, `Memory`, and `Storage`. \n",
    "    - Implement a method in the `Computer` class to display information about the entire computer, including its components. "
   ]
  },
  {
   "cell_type": "code",
   "execution_count": 70,
   "metadata": {},
   "outputs": [
    {
     "name": "stdout",
     "output_type": "stream",
     "text": [
      "CPU:\n",
      "Manufacturer: AMD\n",
      "Model: Ryzen 7700x\n",
      "Serial Number: 123-123\n",
      "Cores: 8\n",
      "Clock Speed: 4500\n",
      "\n",
      "Memory:\n",
      "Manufacturer: Corsair\n",
      "Model: Vengeance\n",
      "Serial Number: 4123\n",
      "Capacity: 32GB\n",
      "Speed: 6000\n",
      "\n",
      "Storage:\n",
      "Manufacturer: Samsung\n",
      "Model: 980 Pro\n",
      "Serial Number: 999\n",
      "Size: 2TB\n",
      "Type: M.2-2280\n"
     ]
    }
   ],
   "source": [
    "class Computer:\n",
    "    def __init__(self, cpu, memory, storage) -> None:\n",
    "        self.cpu = cpu\n",
    "        self.memory = memory\n",
    "        self.storage = storage\n",
    "\n",
    "    def info(self):\n",
    "        return f\"CPU:\\n{self.cpu.details()}\\n\\nMemory:\\n{self.memory.details()}\\n\\nStorage:\\n{self.storage.details()}\"\n",
    "        \n",
    "my_computer = Computer(cpu,memory,storage)\n",
    "print(my_computer.info())"
   ]
  },
  {
   "cell_type": "markdown",
   "metadata": {},
   "source": [
    "4. Advanced Features \n",
    "\n",
    "    - Implement error checking in the `Computer` class to ensure that only appropriate components (instances of `ComputerComponent` subclasses) are associated with the computer. \n",
    "    - Implement a method that allows a user to replace a component with a different one of the same type. \n",
    "    - Use polymorphism to allow different types of CPUs, Memories, and Storages to be used interchangeably in the `Computer` class. "
   ]
  },
  {
   "cell_type": "code",
   "execution_count": 71,
   "metadata": {},
   "outputs": [],
   "source": [
    "class Computer:\n",
    "    def __init__(self, cpu: CPU, memory: Memory, storage: Storage) -> None:\n",
    "        assert isinstance(cpu, CPU)\n",
    "        assert isinstance(memory, Memory)\n",
    "        assert isinstance(storage, Storage)\n",
    "        self.cpu = cpu\n",
    "        self.memory = memory\n",
    "        self.storage = storage\n",
    "\n",
    "    def info(self):\n",
    "        return f\"CPU:\\n{self.cpu.details()}\\n\\nMemory:\\n{self.memory.details()}\\n\\nStorage:\\n{self.storage.details()}\"\n",
    "\n",
    "    def replace(self, new_part):\n",
    "        if isinstance(new_part, CPU):\n",
    "            self.cpu = new_part\n",
    "        elif isinstance(new_part, Memory):\n",
    "            self.memory = new_part\n",
    "        elif isinstance(new_part, Storage):\n",
    "            self.storage = new_part"
   ]
  },
  {
   "cell_type": "code",
   "execution_count": 72,
   "metadata": {},
   "outputs": [
    {
     "ename": "AssertionError",
     "evalue": "",
     "output_type": "error",
     "traceback": [
      "\u001b[1;31m---------------------------------------------------------------------------\u001b[0m",
      "\u001b[1;31mAssertionError\u001b[0m                            Traceback (most recent call last)",
      "Cell \u001b[1;32mIn[72], line 3\u001b[0m\n\u001b[0;32m      1\u001b[0m \u001b[38;5;66;03m# Error checking for types\u001b[39;00m\n\u001b[0;32m      2\u001b[0m \u001b[38;5;66;03m# Putting a cpu object for parameters that isnt a cpu will lead to an error\u001b[39;00m\n\u001b[1;32m----> 3\u001b[0m bad_computer \u001b[38;5;241m=\u001b[39m \u001b[43mComputer\u001b[49m\u001b[43m(\u001b[49m\u001b[43mcpu\u001b[49m\u001b[38;5;241;43m=\u001b[39;49m\u001b[43mcpu\u001b[49m\u001b[43m,\u001b[49m\u001b[43m \u001b[49m\u001b[43mmemory\u001b[49m\u001b[38;5;241;43m=\u001b[39;49m\u001b[43mcpu\u001b[49m\u001b[43m,\u001b[49m\u001b[43m \u001b[49m\u001b[43mstorage\u001b[49m\u001b[38;5;241;43m=\u001b[39;49m\u001b[43mcpu\u001b[49m\u001b[43m)\u001b[49m\n",
      "Cell \u001b[1;32mIn[71], line 4\u001b[0m, in \u001b[0;36mComputer.__init__\u001b[1;34m(self, cpu, memory, storage)\u001b[0m\n\u001b[0;32m      2\u001b[0m \u001b[38;5;28;01mdef\u001b[39;00m \u001b[38;5;21m__init__\u001b[39m(\u001b[38;5;28mself\u001b[39m, cpu: CPU, memory: Memory, storage: Storage) \u001b[38;5;241m-\u001b[39m\u001b[38;5;241m>\u001b[39m \u001b[38;5;28;01mNone\u001b[39;00m:\n\u001b[0;32m      3\u001b[0m     \u001b[38;5;28;01massert\u001b[39;00m \u001b[38;5;28misinstance\u001b[39m(cpu, CPU)\n\u001b[1;32m----> 4\u001b[0m     \u001b[38;5;28;01massert\u001b[39;00m \u001b[38;5;28misinstance\u001b[39m(memory, Memory)\n\u001b[0;32m      5\u001b[0m     \u001b[38;5;28;01massert\u001b[39;00m \u001b[38;5;28misinstance\u001b[39m(storage, Storage)\n\u001b[0;32m      6\u001b[0m     \u001b[38;5;28mself\u001b[39m\u001b[38;5;241m.\u001b[39mcpu \u001b[38;5;241m=\u001b[39m cpu\n",
      "\u001b[1;31mAssertionError\u001b[0m: "
     ]
    }
   ],
   "source": [
    "# Error checking for types\n",
    "# Putting a cpu object for parameters that isnt a cpu will lead to an error\n",
    "bad_computer = Computer(cpu=cpu, memory=cpu, storage=cpu)"
   ]
  },
  {
   "cell_type": "code",
   "execution_count": null,
   "metadata": {},
   "outputs": [
    {
     "name": "stdout",
     "output_type": "stream",
     "text": [
      "CPU:\n",
      "Manufacturer: AMD\n",
      "Model: Ryzen 7700x\n",
      "Serial Number: 123-123\n",
      "Cores: 8\n",
      "Clock Speed: 4500\n",
      "\n",
      "Memory:\n",
      "Manufacturer: Corsair\n",
      "Model: Vengeance\n",
      "Serial Number: 4123\n",
      "Capacity: 32GB\n",
      "Speed: 6000\n",
      "\n",
      "Storage:\n",
      "Manufacturer: Samsung\n",
      "Model: 980 Pro\n",
      "Serial Number: 999\n",
      "Size: 2TB\n",
      "Type: M.2-2280\n"
     ]
    }
   ],
   "source": [
    "# Testing method for replacing pc parts\n",
    "\n",
    "# Making a new computer object\n",
    "my_computer = Computer(cpu, memory, storage)\n",
    "print(my_computer.info())"
   ]
  },
  {
   "cell_type": "code",
   "execution_count": null,
   "metadata": {},
   "outputs": [
    {
     "name": "stdout",
     "output_type": "stream",
     "text": [
      "CPU:\n",
      "Manufacturer: Intel\n",
      "Model: i7-14700K\n",
      "Serial Number: 321414\n",
      "Cores: 20\n",
      "Clock Speed: 3400\n",
      "\n",
      "Memory:\n",
      "Manufacturer: Corsair\n",
      "Model: Vengeance\n",
      "Serial Number: 4123\n",
      "Capacity: 32GB\n",
      "Speed: 6000\n",
      "\n",
      "Storage:\n",
      "Manufacturer: Samsung\n",
      "Model: 980 Pro\n",
      "Serial Number: 999\n",
      "Size: 2TB\n",
      "Type: M.2-2280\n"
     ]
    }
   ],
   "source": [
    "# Using replace() to replace the CPU\n",
    "new_cpu = CPU(\"Intel\", \"i7-14700K\", \"321414\", 20, 3400)\n",
    "my_computer.replace(new_cpu)\n",
    "print(my_computer.info())"
   ]
  }
 ],
 "metadata": {
  "kernelspec": {
   "display_name": ".venv",
   "language": "python",
   "name": "python3"
  },
  "language_info": {
   "codemirror_mode": {
    "name": "ipython",
    "version": 3
   },
   "file_extension": ".py",
   "mimetype": "text/x-python",
   "name": "python",
   "nbconvert_exporter": "python",
   "pygments_lexer": "ipython3",
   "version": "3.12.3"
  }
 },
 "nbformat": 4,
 "nbformat_minor": 2
}
