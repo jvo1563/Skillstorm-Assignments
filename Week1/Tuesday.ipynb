{
 "cells": [
  {
   "cell_type": "markdown",
   "metadata": {},
   "source": [
    "# Tuesday Daily Assignments\n",
    "\n",
    "## Excercises"
   ]
  },
  {
   "cell_type": "code",
   "execution_count": 48,
   "metadata": {},
   "outputs": [
    {
     "name": "stdout",
     "output_type": "stream",
     "text": [
      "True\n",
      "True\n",
      "True\n",
      "True\n",
      "True\n"
     ]
    }
   ],
   "source": [
    "### Excercise 1: String Validator\n",
    "# Write a function that takes in an input from the user and runs a string validation check on it. The output should be as follows.\n",
    "# - On the first line, print True if  has any alphanumeric characters. Otherwise, print False.\n",
    "# - On the second line, print True if  has any alphabetical characters. Otherwise, print False.\n",
    "# - On the third line, print True if  has any digits. Otherwise, print False.\n",
    "# - On the fourth line, print True if  has any lowercase characters. Otherwise, print False.\n",
    "# - On the fifth line, print True if  has any uppercase characters. Otherwise, print False.\n",
    "\n",
    "# Hint: Try looking at the built in [string methods](https://www.w3schools.com/python/python_ref_string.asp)\n",
    "\n",
    "import re\n",
    "\n",
    "\n",
    "def string_validation(string):\n",
    "\n",
    "    # Checks for 1 alphanumeric character\n",
    "    if re.search(\"[a-zA-Z0-9]\", string):\n",
    "        print(\"True\")\n",
    "    else:\n",
    "        print(\"False\")\n",
    "\n",
    "    # Checks for 1 alphabetical character\n",
    "    if re.search(\"[a-zA-Z]\", string):\n",
    "        print(\"True\")\n",
    "    else:\n",
    "        print(\"False\")\n",
    "\n",
    "    # Checks for 1 digit\n",
    "    if re.search(r\"\\d\", string):\n",
    "        print(\"True\")\n",
    "    else:\n",
    "        print(\"False\")\n",
    "\n",
    "    # Checks for 1 lowercase\n",
    "    if re.search(\"[a-z]\", string):\n",
    "        print(\"True\")\n",
    "    else:\n",
    "        print(\"False\")\n",
    "\n",
    "    # Checks for 1 uppercase\n",
    "    if re.search(\"[A-Z]\", string):\n",
    "        print(\"True\")\n",
    "    else:\n",
    "        print(\"False\")\n",
    "\n",
    "\n",
    "string_validation(input())"
   ]
  },
  {
   "cell_type": "code",
   "execution_count": 124,
   "metadata": {},
   "outputs": [
    {
     "name": "stdout",
     "output_type": "stream",
     "text": [
      "Hello, how 55are 312you 2512today?\n",
      "The word at the beginning of the string is Hello\n",
      "Whitespace and digit occurences in the string: [' 5', ' 3', ' 2']\n",
      "Word with punctuation at the end of string: 2512today?\n",
      "Occurances of consecutive digits 1,2, or 3: ['312', '12']\n",
      "Word with double letters: Hello\n"
     ]
    }
   ],
   "source": [
    "### Excercise 2: Regular Expressions\n",
    "# Build regular expressions that matches patterns with the following constraints:\n",
    "# - Any word at the begging of a string\n",
    "# - Any time that the character after a whitespace is a digit\n",
    "# - any word with punctuation at the end of a string\n",
    "# - any occurances of consecutive digits 1,2, or 3\n",
    "# - any word with double letters (i.e. letter, filler, skill, parrot)\n",
    "\n",
    "string = \"Hello, how 55are 312you 2512today?\"\n",
    "print(string)\n",
    "\n",
    "# Matches the word at the beginning of the string\n",
    "match1 = re.search(r\"^\\w+\", string)\n",
    "print(f\"The word at the beginning of the string is {match1[0]}\")\n",
    "\n",
    "# Matches any time the character after a whitespace is digit\n",
    "match2 = re.findall(r\" \\d\", string)\n",
    "print(f\"Whitespace and digit occurences in the string: {match2}\")\n",
    "\n",
    "# Matches word with punctuation at the end of a string\n",
    "match3 = re.search(r\"\\w+[.!?]$\", string)\n",
    "print(f\"Word with punctuation at the end of string: {match3[0]}\")\n",
    "\n",
    "# Matches any occurances of consecutive digits 1,2, or 3\n",
    "match4 = re.findall(r\"[123]{2,}\", string)\n",
    "print(f\"Occurances of consecutive digits 1,2, or 3: {match4}\")\n",
    "\n",
    "# Matches any word with double letters\n",
    "match5 = re.search(r\"\\w*([a-zA-Z])\\1\\w*\", string)\n",
    "print(f\"Word with double letters: {match5[0]}\")"
   ]
  },
  {
   "cell_type": "code",
   "execution_count": 100,
   "metadata": {},
   "outputs": [
    {
     "name": "stdout",
     "output_type": "stream",
     "text": [
      "There are 125961 words starting from the first word of Chapter 1\n"
     ]
    }
   ],
   "source": [
    "### Excercise 3: Word Count\n",
    "# Get an accurate word count of the Pride and Prejudice text starting from the first word of Chapter 1.\n",
    "\n",
    "file_path = \"./Data/Pride_and_Prejudice.txt\"\n",
    "with open(file=file_path, mode=\"rt\", encoding=\"utf-8\") as f:\n",
    "    f.seek(1983)\n",
    "    word_count = len(re.findall(r\"\\w+\", f.read()))\n",
    "    print(f\"There are {word_count} words starting from the first word of Chapter 1\")"
   ]
  },
  {
   "cell_type": "code",
   "execution_count": 112,
   "metadata": {},
   "outputs": [
    {
     "name": "stdout",
     "output_type": "stream",
     "text": [
      "\"aedy32402934-03o\" has 4 vowels, adding 2 to score\n",
      "\"a\" has 1 vowels, adding 1 to score\n",
      "\"aa\" has 2 vowels, adding 2 to score\n",
      "\"oyoooow\" has 6 vowels, adding 2 to score\n",
      "Total score: 7\n"
     ]
    }
   ],
   "source": [
    "### Excercise 4: Word Score\n",
    "# Write a function two take in n words and returns a single integer of their combined score.\n",
    "# - A word is worth 1 point if it has an odd number of vowels\n",
    "# - A word is worth 2 points if it has an even number of vowels\n",
    "# - Output should be the summed total of all scores of the words\n",
    "# - For the purposes of this excercise vowels will consist of [a,e,i,o,u,y]\n",
    "\n",
    "\n",
    "def score(*args):\n",
    "    total = 0\n",
    "\n",
    "    for word in args:\n",
    "        vowel_count = len(re.findall(\"[a,e,i,o,u,y]\", word))\n",
    "        if vowel_count % 2 == 0:\n",
    "            print(f'\"{word}\" has {vowel_count} vowels, adding 2 to score')\n",
    "            total += 2\n",
    "        else:\n",
    "            print(f'\"{word}\" has {vowel_count} vowels, adding 1 to score')\n",
    "            total += 1\n",
    "    return total\n",
    "\n",
    "\n",
    "print(\"Total score:\", score(\"aedy32402934-03o\", \"a\", \"aa\", \"oyoooow\"))"
   ]
  }
 ],
 "metadata": {
  "kernelspec": {
   "display_name": "Python 3",
   "language": "python",
   "name": "python3"
  },
  "language_info": {
   "codemirror_mode": {
    "name": "ipython",
    "version": 3
   },
   "file_extension": ".py",
   "mimetype": "text/x-python",
   "name": "python",
   "nbconvert_exporter": "python",
   "pygments_lexer": "ipython3",
   "version": "3.12.3"
  }
 },
 "nbformat": 4,
 "nbformat_minor": 2
}
