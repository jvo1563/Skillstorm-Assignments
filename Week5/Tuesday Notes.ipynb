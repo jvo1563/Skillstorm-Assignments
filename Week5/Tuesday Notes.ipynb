{
 "cells": [
  {
   "cell_type": "code",
   "execution_count": 0,
   "metadata": {
    "application/vnd.databricks.v1+cell": {
     "cellMetadata": {
      "byteLimit": 2048000,
      "rowLimit": 10000
     },
     "inputWidgets": {},
     "nuid": "1660b803-069a-4dd8-908f-782805d8973b",
     "showTitle": false,
     "title": ""
    }
   },
   "outputs": [],
   "source": [
    "file_path = 'dbfs:/databricks-datasets/nyctaxi/tripdata/yellow/yellow_tripdata_2019-12.csv.gz'\n",
    "df = spark.read.options(header=True,inferSchema=True).csv(file_path)"
   ]
  },
  {
   "cell_type": "code",
   "execution_count": 0,
   "metadata": {
    "application/vnd.databricks.v1+cell": {
     "cellMetadata": {
      "byteLimit": 2048000,
      "rowLimit": 10000
     },
     "inputWidgets": {},
     "nuid": "e8b46244-f780-462b-8da6-18a5a4c3e662",
     "showTitle": false,
     "title": ""
    }
   },
   "outputs": [
    {
     "output_type": "execute_result",
     "data": {
      "text/plain": [
       "1"
      ]
     },
     "execution_count": 21,
     "metadata": {},
     "output_type": "execute_result"
    }
   ],
   "source": [
    "# Get the number of partitions currently\n",
    "df.rdd.getNumPartitions()\n",
    "\n",
    "# 1 Partition because our dataset is smalll"
   ]
  },
  {
   "cell_type": "code",
   "execution_count": 0,
   "metadata": {
    "application/vnd.databricks.v1+cell": {
     "cellMetadata": {
      "byteLimit": 2048000,
      "rowLimit": 10000
     },
     "inputWidgets": {},
     "nuid": "a3096798-98e4-46e4-aee0-c0ff89a391ac",
     "showTitle": false,
     "title": ""
    }
   },
   "outputs": [],
   "source": [
    "# Repartition our dataframe\n",
    "df = df.repartition(200)\n",
    "\n",
    "# Shuffle operations (like joins) MIGHT set our partiions to 200 by default"
   ]
  },
  {
   "cell_type": "code",
   "execution_count": 0,
   "metadata": {
    "application/vnd.databricks.v1+cell": {
     "cellMetadata": {
      "byteLimit": 2048000,
      "rowLimit": 10000
     },
     "inputWidgets": {},
     "nuid": "82218f2e-53e2-4060-ad6c-1e16ce9bbdab",
     "showTitle": false,
     "title": ""
    }
   },
   "outputs": [],
   "source": [
    "# Repartition our dataframe\n",
    "df = df.repartition(4)"
   ]
  },
  {
   "cell_type": "code",
   "execution_count": 0,
   "metadata": {
    "application/vnd.databricks.v1+cell": {
     "cellMetadata": {
      "byteLimit": 2048000,
      "rowLimit": 10000
     },
     "inputWidgets": {},
     "nuid": "b3546ea4-de9a-4ed6-a4b6-361aaa25a491",
     "showTitle": false,
     "title": ""
    }
   },
   "outputs": [],
   "source": [
    "# Repartition will ALWAYS shuffle all of our partitions\n",
    "# Repartition -> Full Shuffle\n",
    "\n",
    "# Coalesce -> Joins adjacent partitions, will not fully shuffle our data\n",
    "df = df.coalesce(4)"
   ]
  },
  {
   "cell_type": "code",
   "execution_count": 0,
   "metadata": {
    "application/vnd.databricks.v1+cell": {
     "cellMetadata": {
      "byteLimit": 2048000,
      "rowLimit": 10000
     },
     "inputWidgets": {},
     "nuid": "ca32a7d6-ff51-42c7-8cf9-7aa7aec062e5",
     "showTitle": false,
     "title": ""
    }
   },
   "outputs": [],
   "source": [
    "# When we join we will do a shuffle -> 200\n",
    "# If the partitions are too small it will automatically coalesce"
   ]
  },
  {
   "cell_type": "code",
   "execution_count": 0,
   "metadata": {
    "application/vnd.databricks.v1+cell": {
     "cellMetadata": {
      "byteLimit": 2048000,
      "rowLimit": 10000
     },
     "inputWidgets": {},
     "nuid": "71185f2a-7318-4bc8-9696-043d94dd0758",
     "showTitle": false,
     "title": ""
    }
   },
   "outputs": [
    {
     "output_type": "display_data",
     "data": {
      "text/html": [
       "<style scoped>\n",
       "  .table-result-container {\n",
       "    max-height: 300px;\n",
       "    overflow: auto;\n",
       "  }\n",
       "  table, th, td {\n",
       "    border: 1px solid black;\n",
       "    border-collapse: collapse;\n",
       "  }\n",
       "  th, td {\n",
       "    padding: 5px;\n",
       "  }\n",
       "  th {\n",
       "    text-align: left;\n",
       "  }\n",
       "</style><div class='table-result-container'><table class='table-result'><thead style='background-color: white'><tr><th>path</th><th>name</th><th>size</th><th>modificationTime</th></tr></thead><tbody><tr><td>dbfs:/databricks-datasets/nyctaxi/taxizone/taxi_payment_type.csv</td><td>taxi_payment_type.csv</td><td>93</td><td>1590524947000</td></tr></tbody></table></div>"
      ]
     },
     "metadata": {
      "application/vnd.databricks.v1+output": {
       "addedWidgets": {},
       "aggData": [],
       "aggError": "",
       "aggOverflow": false,
       "aggSchema": [],
       "aggSeriesLimitReached": false,
       "aggType": "",
       "arguments": {},
       "columnCustomDisplayInfos": {},
       "data": [
        [
         "dbfs:/databricks-datasets/nyctaxi/taxizone/taxi_payment_type.csv",
         "taxi_payment_type.csv",
         93,
         1590524947000
        ]
       ],
       "datasetInfos": [],
       "dbfsResultPath": null,
       "isJsonSchema": true,
       "metadata": {},
       "overflow": false,
       "plotOptions": {
        "customPlotOptions": {},
        "displayType": "table",
        "pivotAggregation": null,
        "pivotColumns": null,
        "xColumns": null,
        "yColumns": null
       },
       "removedWidgets": [],
       "schema": [
        {
         "metadata": "{}",
         "name": "path",
         "type": "\"string\""
        },
        {
         "metadata": "{}",
         "name": "name",
         "type": "\"string\""
        },
        {
         "metadata": "{}",
         "name": "size",
         "type": "\"long\""
        },
        {
         "metadata": "{}",
         "name": "modificationTime",
         "type": "\"long\""
        }
       ],
       "type": "table"
      }
     },
     "output_type": "display_data"
    }
   ],
   "source": [
    "display(dbutils.fs.ls('/databricks-datasets/nyctaxi/taxizone/taxi_payment_type.csv'))"
   ]
  },
  {
   "cell_type": "code",
   "execution_count": 0,
   "metadata": {
    "application/vnd.databricks.v1+cell": {
     "cellMetadata": {
      "byteLimit": 2048000,
      "rowLimit": 10000
     },
     "inputWidgets": {},
     "nuid": "cccccf34-1724-4cc3-8c53-afe87b3104f4",
     "showTitle": false,
     "title": ""
    }
   },
   "outputs": [],
   "source": [
    "payment_types = spark.read.options(header=True,inferSchema=True).csv('dbfs:/databricks-datasets/nyctaxi/taxizone/taxi_payment_type.csv')"
   ]
  },
  {
   "cell_type": "code",
   "execution_count": 0,
   "metadata": {
    "application/vnd.databricks.v1+cell": {
     "cellMetadata": {
      "byteLimit": 2048000,
      "rowLimit": 10000
     },
     "inputWidgets": {},
     "nuid": "9babfc2a-dd14-4d5b-99e9-87acca2f2ab0",
     "showTitle": false,
     "title": ""
    }
   },
   "outputs": [
    {
     "output_type": "stream",
     "name": "stdout",
     "output_type": "stream",
     "text": [
      "+------------+------------+\n|payment_type|payment_desc|\n+------------+------------+\n|           1| Credit card|\n|           2|        Cash|\n|           3|   No Charge|\n|           4|     Dispute|\n|           5|     Unknown|\n+------------+------------+\nonly showing top 5 rows\n\n"
     ]
    }
   ],
   "source": [
    "payment_types.show(5)"
   ]
  },
  {
   "cell_type": "code",
   "execution_count": 0,
   "metadata": {
    "application/vnd.databricks.v1+cell": {
     "cellMetadata": {
      "byteLimit": 2048000,
      "rowLimit": 10000
     },
     "inputWidgets": {},
     "nuid": "82f5b79c-abe8-470f-8a17-9fcfe0cc7965",
     "showTitle": false,
     "title": ""
    }
   },
   "outputs": [],
   "source": [
    "df = df.join(other=payment_types, on='payment_type', how='inner')\n",
    "# left = df   right = payment_types\n",
    "# Default join is inner join anyways\n",
    "\n",
    "# Same as above for on=...\n",
    "# f = df.join(other=payment_types, on='df.payment_type = payment_types.payment_type', how='inner')\n",
    "\n",
    "# If our df was bigger with like 200 partitions. Spark would automatically broadcast the payment_types"
   ]
  },
  {
   "cell_type": "code",
   "execution_count": 0,
   "metadata": {
    "application/vnd.databricks.v1+cell": {
     "cellMetadata": {
      "byteLimit": 2048000,
      "rowLimit": 10000
     },
     "inputWidgets": {},
     "nuid": "94096ae6-5a6e-4448-b449-034deb4bf240",
     "showTitle": false,
     "title": ""
    }
   },
   "outputs": [
    {
     "output_type": "stream",
     "name": "stdout",
     "output_type": "stream",
     "text": [
      "+------------+-----------------+-------------+--------------------+--------------------+---------------+-----------------+-----------------+-------------------+-----------------+------------------+--------------------+------------------+--------------------------+-------------------+-------------------------+\n|payment_desc|sum(payment_type)|sum(VendorID)|sum(passenger_count)|  sum(trip_distance)|sum(RatecodeID)|sum(PULocationID)|sum(DOLocationID)|   sum(fare_amount)|       sum(extra)|      sum(mta_tax)|     sum(tip_amount)| sum(tolls_amount)|sum(improvement_surcharge)|  sum(total_amount)|sum(congestion_surcharge)|\n+------------+-----------------+-------------+--------------------+--------------------+---------------+-----------------+-----------------+-------------------+-----------------+------------------+--------------------+------------------+--------------------------+-------------------+-------------------------+\n|   No Charge|           111267|        44524|               48326|    92758.8199999998|          46002|          5850554|          5790347| 319730.88999999984|          63596.0|          10322.48| -341.34999999999997|11060.249999999935|         6576.299999999369| 397468.22000003443|                 41632.75|\n|        Cash|          3824200|      3212374|             3068364|   5438873.870000184|        2035117|        307650413|        302849698|2.461865684999993E7|1955915.549999991| 947670.0999999997|   564.5100000000001| 555522.9099998561|         570659.1000017909|3.147752056976202E7|               4188929.25|\n|     Dispute|            80552|        29799|               27384|   50700.73000000017|          23846|          3206112|          3133372|  421144.7299999998|          20321.0|            264.32|  -59.13000000000005|1909.9800000000005|        237.89999999999918| 423252.14999999956|                   -187.5|\n| Credit card|          4875971|      8120698|             7472144|1.4589040690000152E7|        5190452|        804931041|        795250415|6.669086998999616E7|5461100.400000003|2420148.2599999993|1.5475619129993066E7|2017399.7099988926|         1462245.299967193|1.012127981206474E8|             1.14601545E7|\n|     Unknown|                5|            1|                   1|                 1.3|              1|              246|              161|               10.0|              2.5|               0.5|                 2.0|               0.0|                       0.3|               15.3|                      2.5|\n+------------+-----------------+-------------+--------------------+--------------------+---------------+-----------------+-----------------+-------------------+-----------------+------------------+--------------------+------------------+--------------------------+-------------------+-------------------------+\n\n"
     ]
    },
    {
     "output_type": "execute_result",
     "data": {
      "text/html": [
       "<div>\n",
       "<style scoped>\n",
       "    .dataframe tbody tr th:only-of-type {\n",
       "        vertical-align: middle;\n",
       "    }\n",
       "\n",
       "    .dataframe tbody tr th {\n",
       "        vertical-align: top;\n",
       "    }\n",
       "\n",
       "    .dataframe thead th {\n",
       "        text-align: right;\n",
       "    }\n",
       "</style>\n",
       "<table border=\"1\" class=\"dataframe\">\n",
       "  <thead>\n",
       "    <tr style=\"text-align: right;\">\n",
       "      <th></th>\n",
       "      <th>payment_desc</th>\n",
       "      <th>sum(payment_type)</th>\n",
       "      <th>sum(VendorID)</th>\n",
       "      <th>sum(passenger_count)</th>\n",
       "      <th>sum(trip_distance)</th>\n",
       "      <th>sum(RatecodeID)</th>\n",
       "      <th>sum(PULocationID)</th>\n",
       "      <th>sum(DOLocationID)</th>\n",
       "      <th>sum(fare_amount)</th>\n",
       "      <th>sum(extra)</th>\n",
       "      <th>sum(mta_tax)</th>\n",
       "      <th>sum(tip_amount)</th>\n",
       "      <th>sum(tolls_amount)</th>\n",
       "      <th>sum(improvement_surcharge)</th>\n",
       "      <th>sum(total_amount)</th>\n",
       "      <th>sum(congestion_surcharge)</th>\n",
       "    </tr>\n",
       "  </thead>\n",
       "  <tbody>\n",
       "    <tr>\n",
       "      <th>0</th>\n",
       "      <td>No Charge</td>\n",
       "      <td>111267</td>\n",
       "      <td>44524</td>\n",
       "      <td>48326</td>\n",
       "      <td>92758.82</td>\n",
       "      <td>46002</td>\n",
       "      <td>5850554</td>\n",
       "      <td>5790347</td>\n",
       "      <td>3.197309e+05</td>\n",
       "      <td>63596.00</td>\n",
       "      <td>10322.48</td>\n",
       "      <td>-3.413500e+02</td>\n",
       "      <td>1.106025e+04</td>\n",
       "      <td>6.576300e+03</td>\n",
       "      <td>3.974682e+05</td>\n",
       "      <td>41632.75</td>\n",
       "    </tr>\n",
       "    <tr>\n",
       "      <th>1</th>\n",
       "      <td>Cash</td>\n",
       "      <td>3824200</td>\n",
       "      <td>3212374</td>\n",
       "      <td>3068364</td>\n",
       "      <td>5438873.87</td>\n",
       "      <td>2035117</td>\n",
       "      <td>307650413</td>\n",
       "      <td>302849698</td>\n",
       "      <td>2.461866e+07</td>\n",
       "      <td>1955915.55</td>\n",
       "      <td>947670.10</td>\n",
       "      <td>5.645100e+02</td>\n",
       "      <td>5.555229e+05</td>\n",
       "      <td>5.706591e+05</td>\n",
       "      <td>3.147752e+07</td>\n",
       "      <td>4188929.25</td>\n",
       "    </tr>\n",
       "    <tr>\n",
       "      <th>2</th>\n",
       "      <td>Dispute</td>\n",
       "      <td>80552</td>\n",
       "      <td>29799</td>\n",
       "      <td>27384</td>\n",
       "      <td>50700.73</td>\n",
       "      <td>23846</td>\n",
       "      <td>3206112</td>\n",
       "      <td>3133372</td>\n",
       "      <td>4.211447e+05</td>\n",
       "      <td>20321.00</td>\n",
       "      <td>264.32</td>\n",
       "      <td>-5.913000e+01</td>\n",
       "      <td>1.909980e+03</td>\n",
       "      <td>2.379000e+02</td>\n",
       "      <td>4.232521e+05</td>\n",
       "      <td>-187.50</td>\n",
       "    </tr>\n",
       "    <tr>\n",
       "      <th>3</th>\n",
       "      <td>Credit card</td>\n",
       "      <td>4875971</td>\n",
       "      <td>8120698</td>\n",
       "      <td>7472144</td>\n",
       "      <td>14589040.69</td>\n",
       "      <td>5190452</td>\n",
       "      <td>804931041</td>\n",
       "      <td>795250415</td>\n",
       "      <td>6.669087e+07</td>\n",
       "      <td>5461100.40</td>\n",
       "      <td>2420148.26</td>\n",
       "      <td>1.547562e+07</td>\n",
       "      <td>2.017400e+06</td>\n",
       "      <td>1.462245e+06</td>\n",
       "      <td>1.012128e+08</td>\n",
       "      <td>11460154.50</td>\n",
       "    </tr>\n",
       "    <tr>\n",
       "      <th>4</th>\n",
       "      <td>Unknown</td>\n",
       "      <td>5</td>\n",
       "      <td>1</td>\n",
       "      <td>1</td>\n",
       "      <td>1.30</td>\n",
       "      <td>1</td>\n",
       "      <td>246</td>\n",
       "      <td>161</td>\n",
       "      <td>1.000000e+01</td>\n",
       "      <td>2.50</td>\n",
       "      <td>0.50</td>\n",
       "      <td>2.000000e+00</td>\n",
       "      <td>0.000000e+00</td>\n",
       "      <td>3.000000e-01</td>\n",
       "      <td>1.530000e+01</td>\n",
       "      <td>2.50</td>\n",
       "    </tr>\n",
       "  </tbody>\n",
       "</table>\n",
       "</div>"
      ],
      "text/plain": [
       "  payment_desc  sum(payment_type)  ...  sum(total_amount)  sum(congestion_surcharge)\n",
       "0    No Charge             111267  ...       3.974682e+05                   41632.75\n",
       "1         Cash            3824200  ...       3.147752e+07                 4188929.25\n",
       "2      Dispute              80552  ...       4.232521e+05                    -187.50\n",
       "3  Credit card            4875971  ...       1.012128e+08                11460154.50\n",
       "4      Unknown                  5  ...       1.530000e+01                       2.50\n",
       "\n",
       "[5 rows x 16 columns]"
      ]
     },
     "execution_count": 30,
     "metadata": {},
     "output_type": "execute_result"
    }
   ],
   "source": [
    "# Aggregating is like in SQL\n",
    "df.groupBy('payment_desc').sum().show(5)\n",
    "\n",
    "# Can use toPandas() for neater\n",
    "df.groupBy('payment_desc').sum().toPandas()"
   ]
  },
  {
   "cell_type": "code",
   "execution_count": 0,
   "metadata": {
    "application/vnd.databricks.v1+cell": {
     "cellMetadata": {
      "byteLimit": 2048000,
      "rowLimit": 10000
     },
     "inputWidgets": {},
     "nuid": "93276863-c024-4f7c-95c5-46a6823118d4",
     "showTitle": false,
     "title": ""
    }
   },
   "outputs": [
    {
     "output_type": "stream",
     "name": "stdout",
     "output_type": "stream",
     "text": [
      "+------------+--------+-------------------+\n|payment_desc|VendorID|   sum(fare_amount)|\n+------------+--------+-------------------+\n|     Dispute|       2|         -121688.98|\n|   No Charge|       2|          -73507.19|\n|     Unknown|       1|               10.0|\n|   No Charge|       1| 393238.07999999856|\n|     Dispute|       1|  542833.7099999997|\n|        Cash|       1|  7645364.220000005|\n|        Cash|       2|      1.697329263E7|\n| Credit card|       1|2.186538855000178E7|\n| Credit card|       2|4.482548143999999E7|\n+------------+--------+-------------------+\n\n+------------+--------+-------------------+----------+\n|payment_desc|VendorID|            revenue|VendorID 2|\n+------------+--------+-------------------+----------+\n| Credit card|       2|4.482548143999999E7|        12|\n| Credit card|       1|2.186538855000178E7|        11|\n|        Cash|       2|      1.697329263E7|        12|\n|        Cash|       1|  7645364.220000005|        11|\n|     Dispute|       1|  542833.7099999997|        11|\n|   No Charge|       1| 393238.07999999856|        11|\n|     Unknown|       1|               10.0|        11|\n|   No Charge|       2|          -73507.19|        12|\n|     Dispute|       2|         -121688.98|        12|\n+------------+--------+-------------------+----------+\n\n"
     ]
    }
   ],
   "source": [
    "# Aggregate by multiple columns\n",
    "\n",
    "# You can order by in here unlike SQL because theres no weird order of operation stuff\n",
    "\n",
    "df.groupBy(['payment_desc', 'VendorID']).sum('fare_amount').orderBy('sum(fare_amount)').show()\n",
    "\n",
    "# Can rename columnss and use name for orderBy\n",
    "# withColumn() can add or replace a column\n",
    "df.groupBy(['payment_desc', 'VendorID']).sum('fare_amount').withColumnRenamed('sum(fare_amount)','revenue').withColumn('VendorID 2', df.VendorID + 10).orderBy('revenue', ascending=False).show()"
   ]
  },
  {
   "cell_type": "code",
   "execution_count": 0,
   "metadata": {
    "application/vnd.databricks.v1+cell": {
     "cellMetadata": {
      "byteLimit": 2048000,
      "rowLimit": 10000
     },
     "inputWidgets": {},
     "nuid": "9181cbac-ce73-4e3c-8b3c-8483ac5d2e33",
     "showTitle": false,
     "title": ""
    }
   },
   "outputs": [
    {
     "output_type": "stream",
     "name": "stdout",
     "output_type": "stream",
     "text": [
      "+----------------+\n|max(fare_amount)|\n+----------------+\n|       398468.38|\n+----------------+\n\n"
     ]
    }
   ],
   "source": [
    "# agg() - Global aggregate\n",
    "# Aggregate on the entire DataFrame without groups (shorthand for df.groupBy().agg()).\n",
    "df.agg({'fare_amount':'max'}).show()"
   ]
  },
  {
   "cell_type": "code",
   "execution_count": 0,
   "metadata": {
    "application/vnd.databricks.v1+cell": {
     "cellMetadata": {
      "byteLimit": 2048000,
      "rowLimit": 10000
     },
     "inputWidgets": {},
     "nuid": "e2e8223d-e02e-4d60-8e6f-3fae86b11177",
     "showTitle": false,
     "title": ""
    }
   },
   "outputs": [
    {
     "output_type": "stream",
     "name": "stdout",
     "output_type": "stream",
     "text": [
      "+-----------------------------------+\n|approx_count_distinct(PULocationID)|\n+-----------------------------------+\n|                                262|\n+-----------------------------------+\n\n"
     ]
    }
   ],
   "source": [
    "from pyspark.sql import functions as sf\n",
    "\n",
    "df.agg(sf.approx_count_distinct(df.PULocationID)).show()"
   ]
  },
  {
   "cell_type": "code",
   "execution_count": 0,
   "metadata": {
    "application/vnd.databricks.v1+cell": {
     "cellMetadata": {
      "byteLimit": 2048000,
      "rowLimit": 10000
     },
     "inputWidgets": {},
     "nuid": "7c777075-b1e0-4112-a31b-d52bff3497e5",
     "showTitle": false,
     "title": ""
    }
   },
   "outputs": [
    {
     "output_type": "stream",
     "name": "stdout",
     "output_type": "stream",
     "text": [
      "+----------------------------+\n|count(DISTINCT PULocationID)|\n+----------------------------+\n|                         261|\n+----------------------------+\n\n"
     ]
    }
   ],
   "source": [
    "df.agg(sf.countDistinct(df.PULocationID)).show()"
   ]
  }
 ],
 "metadata": {
  "application/vnd.databricks.v1+notebook": {
   "dashboards": [],
   "environmentMetadata": null,
   "language": "python",
   "notebookMetadata": {
    "pythonIndentUnit": 4
   },
   "notebookName": "Tuesday Notes",
   "widgets": {}
  }
 },
 "nbformat": 4,
 "nbformat_minor": 0
}
